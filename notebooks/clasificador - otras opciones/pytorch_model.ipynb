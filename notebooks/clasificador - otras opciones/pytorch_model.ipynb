{
 "cells": [
  {
   "cell_type": "markdown",
   "metadata": {},
   "source": [
    "# Image Classification of Dogs vs. Cats With PyTorch"
   ]
  },
  {
   "cell_type": "markdown",
   "metadata": {},
   "source": [
    "### Imports & Environment"
   ]
  },
  {
   "cell_type": "code",
   "execution_count": null,
   "metadata": {},
   "outputs": [],
   "source": [
    "!pip install ipdb"
   ]
  },
  {
   "cell_type": "code",
   "execution_count": 1,
   "metadata": {},
   "outputs": [],
   "source": [
    "import os\n",
    "import random\n",
    "import collections\n",
    "import shutil\n",
    "import time\n",
    "import glob\n",
    "import csv\n",
    "import numpy as np\n",
    "\n",
    "import torch\n",
    "import torch.backends.cudnn as cudnn\n",
    "import torch.nn as nn\n",
    "import torch.optim as optim\n",
    "import torch.utils.data as data\n",
    "import torchvision.datasets as datasets\n",
    "import torchvision.models as models\n",
    "import torchvision.transforms as transforms\n",
    "import torchvision.transforms.functional as F\n",
    "\n",
    "\n",
    "from PIL import Image\n",
    "\n",
    "ROOT_DIR = os.getcwd()\n",
    "DATA_HOME_DIR = ROOT_DIR + '/data/data_splitted'"
   ]
  },
  {
   "cell_type": "markdown",
   "metadata": {},
   "source": [
    "### Config & Hyperparameters"
   ]
  },
  {
   "cell_type": "code",
   "execution_count": 2,
   "metadata": {},
   "outputs": [],
   "source": [
    "# paths\n",
    "data_path = DATA_HOME_DIR #+ '/' \n",
    "split_train_path = data_path + '/train/'\n",
    "valid_path = data_path + '/valid/'\n",
    "test_path = data_path + '/test/'\n",
    "full_train_path = data_path + '/train_full/'\n",
    "\n",
    "\n",
    "saved_model_path = ROOT_DIR + '/models/'\n",
    "submission_path = ROOT_DIR + '/submissions/'\n",
    "\n",
    "# data\n",
    "batch_size = 4\n",
    "\n",
    "# model\n",
    "nb_runs = 1\n",
    "nb_aug = 3\n",
    "epochs = 40\n",
    "lr = 1e-3\n",
    "clip = 0.001\n",
    "archs = [ \"resnet101\", \"resnet50\", \"resnet18\",\"resnet34\"]\n",
    "archs = [\"resnet34\"]\n",
    "best_prec1 = 0\n",
    "\n",
    "model_names = sorted(name for name in models.__dict__ if name.islower() and not name.startswith(\"__\"))"
   ]
  },
  {
   "cell_type": "code",
   "execution_count": 3,
   "metadata": {},
   "outputs": [],
   "source": [
    "#model_names"
   ]
  },
  {
   "cell_type": "markdown",
   "metadata": {},
   "source": [
    "### Helper Functions for Training"
   ]
  },
  {
   "cell_type": "code",
   "execution_count": 4,
   "metadata": {},
   "outputs": [],
   "source": [
    "def train(train_loader, model, criterion, optimizer, epoch):\n",
    "    batch_time = AverageMeter()\n",
    "    data_time = AverageMeter()\n",
    "    losses = AverageMeter()\n",
    "    acc = AverageMeter()\n",
    "    end = time.time()\n",
    "    \n",
    "    # switch to train mode\n",
    "    model.train()\n",
    "    \n",
    "    for i, (images, target) in enumerate(train_loader):\n",
    "        # measure data loading time\n",
    "        data_time.update(time.time() - end)\n",
    "\n",
    "        target = target.cuda()\n",
    "        image_var = torch.autograd.Variable(images)\n",
    "        label_var = torch.autograd.Variable(target)\n",
    "\n",
    "        # compute y_pred\n",
    "        y_pred = model(image_var)\n",
    "        loss = criterion(y_pred, label_var)\n",
    "\n",
    "        # measure accuracy and record loss\n",
    "        prec1, prec1 = accuracy(y_pred.data, target, topk=(1, 1))\n",
    "        losses.update(loss.data, images.size(0))\n",
    "        acc.update(prec1, images.size(0))\n",
    "\n",
    "        # compute gradient and do SGD step\n",
    "        optimizer.zero_grad()\n",
    "        loss.backward()\n",
    "        optimizer.step()\n",
    "\n",
    "        # measure elapsed time\n",
    "        batch_time.update(time.time() - end)\n",
    "        end = time.time()"
   ]
  },
  {
   "cell_type": "code",
   "execution_count": 5,
   "metadata": {},
   "outputs": [],
   "source": [
    "def validate(val_loader, model, criterion, epoch, lr=0.001):\n",
    "    batch_time = AverageMeter()\n",
    "    losses = AverageMeter()\n",
    "    acc = AverageMeter()\n",
    "\n",
    "    # switch to evaluate mode\n",
    "    model.eval()\n",
    "\n",
    "    end = time.time()\n",
    "    for i, (images, labels) in enumerate(val_loader):\n",
    "        labels = labels.cuda()\n",
    "        image_var = torch.autograd.Variable(images)\n",
    "        label_var = torch.autograd.Variable(labels)\n",
    "\n",
    "        # compute y_pred\n",
    "        y_pred = model(image_var)\n",
    "        loss = criterion(y_pred, label_var)\n",
    "\n",
    "        # measure accuracy and record loss\n",
    "        prec1, temp_var = accuracy(y_pred.data, labels, topk=(1, 1))\n",
    "        losses.update(loss.data, images.size(0))\n",
    "        acc.update(prec1, images.size(0))\n",
    "\n",
    "        # measure elapsed time\n",
    "        batch_time.update(time.time() - end)\n",
    "        end = time.time()\n",
    "\n",
    "    print('   * EPOCH {epoch:02d} | Accuracy: {acc.avg:.3f} | Loss: {losses.avg:.3f} | Lr: {lr:.3e}'.format(epoch=epoch,\n",
    "                                                                                         acc=acc,\n",
    "                                                                                         losses=losses, lr=lr))\n",
    "\n",
    "    return acc.avg"
   ]
  },
  {
   "cell_type": "code",
   "execution_count": 6,
   "metadata": {},
   "outputs": [],
   "source": [
    "def test(test_loader, model):\n",
    "    csv_map = collections.defaultdict(float)\n",
    "    \n",
    "    # switch to evaluate mode\n",
    "    model.eval()\n",
    "    \n",
    "    for aug in range(nb_aug):\n",
    "        print(\"   * Predicting on test augmentation {}\".format(aug + 1))\n",
    "        \n",
    "        for i, (images, filepath) in enumerate(test_loader):\n",
    "            # pop extension, treat as id to map\n",
    "            filepath = os.path.splitext(os.path.basename(filepath[0]))[0]\n",
    "            filepath = int(filepath)\n",
    "\n",
    "            image_var = torch.autograd.Variable(images)\n",
    "            y_pred = model(image_var)\n",
    "            # get the index of the max log-probability\n",
    "            smax = nn.Softmax()\n",
    "            smax_out = smax(y_pred)[0]\n",
    "            cat_prob = smax_out.data[0]\n",
    "            dog_prob = smax_out.data[1]\n",
    "            prob = dog_prob\n",
    "            if cat_prob > dog_prob:\n",
    "                prob = 1 - cat_prob\n",
    "            prob = np.around(prob.cpu(), decimals=4)\n",
    "            prob = np.clip(prob, clip, 1-clip)\n",
    "            csv_map[filepath] += (prob / nb_aug)\n",
    "\n",
    "    sub_fn = submission_path + '{0}epoch_{1}clip_{2}runs'.format(epochs, clip, nb_runs)\n",
    "    \n",
    "    for arch in archs:\n",
    "        sub_fn += \"_{}\".format(arch)\n",
    "        \n",
    "    print(\"Writing Predictions to CSV...\")\n",
    "    with open(sub_fn + '.csv', 'w') as csvfile:\n",
    "        fieldnames = ['id', 'label']\n",
    "        csv_w = csv.writer(csvfile)\n",
    "        csv_w.writerow(('id', 'label'))\n",
    "        for row in sorted(csv_map.items()):\n",
    "            csv_w.writerow(row)\n",
    "    print(\"Done.\")"
   ]
  },
  {
   "cell_type": "code",
   "execution_count": 7,
   "metadata": {},
   "outputs": [],
   "source": [
    "def save_checkpoint(state, is_best, filename='checkpoint.pth.tar'):\n",
    "    torch.save(state, filename)\n",
    "    if is_best:\n",
    "        shutil.copyfile(filename, 'model_best.pth.tar')      "
   ]
  },
  {
   "cell_type": "code",
   "execution_count": 8,
   "metadata": {},
   "outputs": [],
   "source": [
    "class AverageMeter(object):\n",
    "    \"\"\"Computes and stores the average and current value\"\"\"\n",
    "\n",
    "    def __init__(self):\n",
    "        self.reset()\n",
    "\n",
    "    def reset(self):\n",
    "        self.val = 0\n",
    "        self.avg = 0\n",
    "        self.sum = 0\n",
    "        self.count = 0\n",
    "\n",
    "    def update(self, val, n=1):\n",
    "        self.val = val\n",
    "        self.sum += val * n\n",
    "        self.count += n\n",
    "        self.avg = self.sum / self.count"
   ]
  },
  {
   "cell_type": "code",
   "execution_count": 9,
   "metadata": {},
   "outputs": [],
   "source": [
    "def adjust_learning_rate(optimizer, epoch):\n",
    "    \"\"\"Sets the learning rate to the initial LR decayed by 10 every 30 epochs\"\"\"\n",
    "    global lr\n",
    "    lr = lr * (0.1**(epoch // 30))\n",
    "    for param_group in optimizer.state_dict()['param_groups']:\n",
    "        param_group['lr'] = lr\n",
    "\n",
    "\n",
    "def accuracy(y_pred, y_actual, topk=(1, )):\n",
    "    \"\"\"Computes the precision@k for the specified values of k\"\"\"\n",
    "    maxk = max(topk)\n",
    "    batch_size = y_actual.size(0)\n",
    "\n",
    "    _, pred = y_pred.topk(maxk, 1, True, True)\n",
    "    pred = pred.t()\n",
    "    correct = pred.eq(y_actual.view(1, -1).expand_as(pred))\n",
    "\n",
    "    res = []\n",
    "    for k in topk:\n",
    "        correct_k = correct[:k].view(-1).float().sum(0)\n",
    "        res.append(correct_k.mul_(100.0 / batch_size))\n",
    "\n",
    "    return res"
   ]
  },
  {
   "cell_type": "code",
   "execution_count": 10,
   "metadata": {},
   "outputs": [],
   "source": [
    "class TestImageFolder(data.Dataset):\n",
    "    def __init__(self, root, transform=None):\n",
    "        images = []\n",
    "        for filename in sorted(glob.glob(test_path + \"*.jpg\")):\n",
    "            images.append('{}'.format(filename))\n",
    "\n",
    "        self.root = root\n",
    "        self.imgs = images\n",
    "        self.transform = transform\n",
    "\n",
    "    def __getitem__(self, index):\n",
    "        filename = self.imgs[index]\n",
    "        img = Image.open(os.path.join(self.root, filename))\n",
    "        if self.transform is not None:\n",
    "            img = self.transform(img)\n",
    "        return img, filename\n",
    "\n",
    "    def __len__(self):\n",
    "        return len(self.imgs)"
   ]
  },
  {
   "cell_type": "code",
   "execution_count": 11,
   "metadata": {},
   "outputs": [],
   "source": [
    "def shear(img):\n",
    "    width, height = img.size\n",
    "    m = random.uniform(-0.05, 0.05)\n",
    "    xshift = abs(m) * width\n",
    "    new_width = width + int(round(xshift))\n",
    "    img = img.transform((new_width, height), Image.AFFINE,\n",
    "                        (1, m, -xshift if m > 0 else 0, 0, 1, 0),\n",
    "                        Image.BICUBIC)\n",
    "    return img\n",
    "\n",
    "class SquarePad:\n",
    "    def __call__(self, image):\n",
    "        w, h = image.size\n",
    "        max_wh = np.max([w, h])\n",
    "        hp = int((max_wh - w) / 2)\n",
    "        vp = int((max_wh - h) / 2)\n",
    "        padding = (hp, vp, hp, vp)\n",
    "        return F.pad(image, padding, 0, 'constant')\n",
    "\n",
    "class AddGaussianNoise(object):\n",
    "    def __init__(self, mean=0., std=0.1):\n",
    "        self.std = std\n",
    "        self.mean = mean\n",
    "        \n",
    "    def __call__(self, tensor):\n",
    "        return tensor + torch.randn(tensor.size()) * self.std + self.mean\n",
    "    \n",
    "    def __repr__(self):\n",
    "        return self.__class__.__name__ + '(mean={0}, std={1})'.format(self.mean, self.std)"
   ]
  },
  {
   "cell_type": "markdown",
   "metadata": {},
   "source": [
    "### Main Training Loop"
   ]
  },
  {
   "cell_type": "markdown",
   "metadata": {},
   "source": [
    "#### dataset loading"
   ]
  },
  {
   "cell_type": "code",
   "execution_count": 71,
   "metadata": {},
   "outputs": [],
   "source": [
    "# Data loading code\n",
    "traindir = split_train_path\n",
    "valdir = valid_path\n",
    "testdir = test_path\n",
    "\n",
    "normalize = transforms.Normalize(mean=[0.485, 0.456, 0.406], std=[0.229, 0.224, 0.225])\n",
    "#transforms.RandomApply\n",
    "#transforms.RandomAffine, RandomPerspective\n",
    "train_loader = data.DataLoader(\n",
    "    datasets.ImageFolder(traindir,\n",
    "                         transforms.Compose([\n",
    "                             # transforms.Lambda(shear),\n",
    "                             SquarePad(),\n",
    "                             transforms.Resize(224),\n",
    "                             transforms.ColorJitter(\n",
    "                                brightness=0.1,\n",
    "                                contrast=0.1,\n",
    "                                saturation=0.1,\n",
    "                                hue=0.1,\n",
    "                             ),\n",
    "                             transforms.RandomApply(transforms=\n",
    "                                             [transforms.GaussianBlur(kernel_size=(5, 5), sigma=(0.5, 1.5))],\n",
    "                                         p=.3),                                         \n",
    "                             transforms.RandomHorizontalFlip(),\n",
    "                             transforms.ToTensor(),\n",
    "                             normalize,\n",
    "                         ])),\n",
    "    batch_size=batch_size,\n",
    "    shuffle=True,\n",
    "    num_workers=4,\n",
    "    pin_memory=True)\n",
    "\n",
    "val_loader = data.DataLoader(\n",
    "    datasets.ImageFolder(valdir,\n",
    "                         transforms.Compose([\n",
    "                             SquarePad(),\n",
    "                             transforms.Resize(224),\n",
    "                             transforms.ColorJitter(\n",
    "                                brightness=0.1,\n",
    "                                contrast=0.1,\n",
    "                                saturation=0.1,\n",
    "                                hue=0.1\n",
    "                             ),\n",
    "                             transforms.RandomHorizontalFlip(),\n",
    "                             transforms.ToTensor(),\n",
    "                             normalize,\n",
    "                         ])),\n",
    "    batch_size=batch_size,\n",
    "    shuffle=True,\n",
    "    num_workers=4,\n",
    "    pin_memory=True)\n",
    "\n",
    "test_loader = data.DataLoader(\n",
    "    datasets.ImageFolder(testdir,\n",
    "                    transforms.Compose([\n",
    "                        # transforms.Lambda(shear),\n",
    "                        # transforms.Resize(256),\n",
    "                        # transforms.CenterCrop(224),\n",
    "                        SquarePad(),\n",
    "                        transforms.Resize(224),                                \n",
    "                        transforms.RandomHorizontalFlip(),\n",
    "                        transforms.ToTensor(),\n",
    "                        normalize,\n",
    "                    ])),\n",
    "    batch_size=1,\n",
    "    shuffle=False,\n",
    "    num_workers=1,\n",
    "    pin_memory=False)\n",
    "\n",
    "\n",
    "dataa ={'train':train_loader, 'valid':val_loader, 'test':test_loader}"
   ]
  },
  {
   "cell_type": "code",
   "execution_count": 13,
   "metadata": {},
   "outputs": [
    {
     "data": {
      "text/plain": [
       "{'cemento': 0,\n",
       " 'no_truck': 1,\n",
       " 'otro': 2,\n",
       " 'plataforma': 3,\n",
       " 'volteo': 4,\n",
       " 'volteo_corto': 5}"
      ]
     },
     "execution_count": 13,
     "metadata": {},
     "output_type": "execute_result"
    }
   ],
   "source": [
    "train_loader.dataset.class_to_idx"
   ]
  },
  {
   "cell_type": "code",
   "execution_count": 14,
   "metadata": {},
   "outputs": [
    {
     "data": {
      "text/plain": [
       "(['cemento', 'no_truck', 'otro', 'plataforma', 'volteo', 'volteo_corto'],\n",
       " {'cemento': 0,\n",
       "  'no_truck': 1,\n",
       "  'otro': 2,\n",
       "  'plataforma': 3,\n",
       "  'volteo': 4,\n",
       "  'volteo_corto': 5})"
      ]
     },
     "execution_count": 14,
     "metadata": {},
     "output_type": "execute_result"
    }
   ],
   "source": [
    "def find_classes(dir):\n",
    "    classes = os.listdir(dir)\n",
    "    classes.sort()\n",
    "    class_to_idx = {classes[i]: i for i in range(len(classes))}\n",
    "    return classes, class_to_idx\n",
    "find_classes(traindir)"
   ]
  },
  {
   "cell_type": "code",
   "execution_count": 15,
   "metadata": {},
   "outputs": [
    {
     "data": {
      "text/plain": [
       "({0: 1.0, 1: 1.0, 2: 2.0, 3: 9.0, 4: 0.0, 5: 2.0},\n",
       " {0: 400, 1: 240, 2: 141, 3: 33, 4: 749, 5: 141})"
      ]
     },
     "execution_count": 15,
     "metadata": {},
     "output_type": "execute_result"
    }
   ],
   "source": [
    "from collections import Counter\n",
    "dd = dict(Counter(train_loader.dataset.targets))\n",
    "summ = sum([k for k in dd.values()])/len(dd.values())\n",
    "summ\n",
    "dd2 = {k[0]:round(summ/k[1],0) for k in dd.items()}\n",
    "dd2,dd"
   ]
  },
  {
   "cell_type": "code",
   "execution_count": 16,
   "metadata": {},
   "outputs": [],
   "source": [
    "weights = list(dd.values())\n",
    "class_weights = torch.FloatTensor(weights).cuda()"
   ]
  },
  {
   "cell_type": "code",
   "execution_count": 17,
   "metadata": {
    "scrolled": true
   },
   "outputs": [],
   "source": [
    "def main(data,mode=\"train\", resume=False, num_clases=6, lr = 0.001, weights=None):\n",
    "    \n",
    "    global best_prec1\n",
    "    \n",
    "    for arch in archs:\n",
    "\n",
    "        # create model\n",
    "        print(\"=> Starting {0} on '{1}' model\".format(mode, arch))\n",
    "        model = models.__dict__[arch](pretrained=True)\n",
    "        # Don't update non-classifier learned features in the pretrained networks\n",
    "        for param in model.parameters():\n",
    "            param.requires_grad = False\n",
    "        # Replace the last fully-connected layer\n",
    "        # Parameters of newly constructed modules have requires_grad=True by default\n",
    "        # Final dense layer needs to replaced with the previous out chans, and number of classes\n",
    "        # in this case -- resnet 101 - it's 2048 with two classes (cats and dogs)\n",
    "        #print(model)\n",
    "        #import ipdb; ipdb.set_trace()\n",
    "        \n",
    "        model.fc = nn.Linear(model.fc.in_features, num_clases)\n",
    "\n",
    "        if arch.startswith('alexnet') or arch.startswith('vgg'):\n",
    "            model.features = torch.nn.DataParallel(model.features)\n",
    "            model.cuda()\n",
    "        else:\n",
    "            model = torch.nn.DataParallel(model).cuda()\n",
    "            \n",
    "        # optionally resume from a checkpoint\n",
    "        if resume:\n",
    "            if os.path.isfile(resume):\n",
    "                print(\"=> Loading checkpoint '{}'\".format(resume))\n",
    "                checkpoint = torch.load(resume)\n",
    "                start_epoch = checkpoint['epoch']\n",
    "                best_prec1 = checkpoint['best_prec1']\n",
    "                model.load_state_dict(checkpoint['state_dict'])\n",
    "                print(\"=> Loaded checkpoint (epoch {})\".format(checkpoint['epoch']))\n",
    "            else:\n",
    "                print(\"=> No checkpoint found at '{}'\".format(args.resume))\n",
    "\n",
    "        cudnn.benchmark = True\n",
    "\n",
    "        \n",
    "        \n",
    "        \n",
    "        if mode == \"test\":\n",
    "            test(data['test'], model)\n",
    "            return\n",
    "        \n",
    "        # define loss function (criterion) and pptimizer\n",
    "        criterion = nn.CrossEntropyLoss(weight=weights).cuda()\n",
    "        \n",
    "        if mode == \"validate\":\n",
    "            validate(data['valid'], model, criterion, 0)\n",
    "            return\n",
    "\n",
    "        optimizer = optim.SGD(model.module.fc.parameters(), lr=lr,weight_decay=1e-4, momentum=0.9)\n",
    "        #optimizer = optim.Adam(model.module.fc.parameters(), lr, weight_decay=1e-4)\n",
    "        scheduler1 = optim.lr_scheduler.ExponentialLR(optimizer, gamma=0.9)\n",
    "        \n",
    "        for epoch in range(epochs):\n",
    "            #adjust_learning_rate(optimizer, epoch)\n",
    "\n",
    "            # train for one epoch\n",
    "            train(data['train'], model, criterion, optimizer, epoch)\n",
    "            scheduler1.step()\n",
    "            #import ipdb; ipdb.set_trace()\n",
    "                        \n",
    "            # evaluate on validation set\n",
    "            cur_lr = optimizer.param_groups[-1]['lr']\n",
    "            prec1 = validate(data['valid'], model, criterion, epoch,cur_lr)\n",
    "\n",
    "            # remember best Accuracy and save checkpoint\n",
    "            is_best = prec1 > best_prec1\n",
    "            best_prec1 = max(prec1, best_prec1)\n",
    "            save_checkpoint({\n",
    "                'epoch': epoch + 1,\n",
    "                'arch': arch,\n",
    "                'state_dict': model.state_dict(),\n",
    "                'best_prec1': best_prec1,\n",
    "            }, is_best)"
   ]
  },
  {
   "cell_type": "markdown",
   "metadata": {},
   "source": [
    "### Run Train"
   ]
  },
  {
   "cell_type": "code",
   "execution_count": null,
   "metadata": {},
   "outputs": [],
   "source": [
    "import ipdb"
   ]
  },
  {
   "cell_type": "code",
   "execution_count": 28,
   "metadata": {},
   "outputs": [
    {
     "name": "stdout",
     "output_type": "stream",
     "text": [
      "=> Starting train on 'resnet34' model\n",
      "   * EPOCH 00 | Accuracy: 54.815 | Loss: 0.790 | Lr: 4.500e-04\n",
      "   * EPOCH 01 | Accuracy: 51.111 | Loss: 1.006 | Lr: 4.050e-04\n",
      "   * EPOCH 02 | Accuracy: 61.728 | Loss: 0.701 | Lr: 3.645e-04\n",
      "   * EPOCH 03 | Accuracy: 68.395 | Loss: 0.643 | Lr: 3.281e-04\n",
      "   * EPOCH 04 | Accuracy: 69.136 | Loss: 0.582 | Lr: 2.952e-04\n",
      "   * EPOCH 05 | Accuracy: 68.148 | Loss: 0.625 | Lr: 2.657e-04\n",
      "   * EPOCH 06 | Accuracy: 70.123 | Loss: 0.606 | Lr: 2.391e-04\n",
      "   * EPOCH 07 | Accuracy: 61.975 | Loss: 0.634 | Lr: 2.152e-04\n",
      "   * EPOCH 08 | Accuracy: 68.148 | Loss: 0.536 | Lr: 1.937e-04\n",
      "   * EPOCH 09 | Accuracy: 63.457 | Loss: 0.605 | Lr: 1.743e-04\n",
      "   * EPOCH 10 | Accuracy: 69.877 | Loss: 0.556 | Lr: 1.569e-04\n",
      "   * EPOCH 11 | Accuracy: 69.877 | Loss: 0.572 | Lr: 1.412e-04\n",
      "   * EPOCH 12 | Accuracy: 67.654 | Loss: 0.607 | Lr: 1.271e-04\n",
      "   * EPOCH 13 | Accuracy: 64.444 | Loss: 0.535 | Lr: 1.144e-04\n",
      "   * EPOCH 14 | Accuracy: 69.383 | Loss: 0.570 | Lr: 1.029e-04\n",
      "   * EPOCH 15 | Accuracy: 69.136 | Loss: 0.561 | Lr: 9.265e-05\n",
      "   * EPOCH 16 | Accuracy: 71.605 | Loss: 0.570 | Lr: 8.339e-05\n",
      "   * EPOCH 17 | Accuracy: 68.395 | Loss: 0.566 | Lr: 7.505e-05\n",
      "   * EPOCH 18 | Accuracy: 69.136 | Loss: 0.553 | Lr: 6.754e-05\n",
      "   * EPOCH 19 | Accuracy: 68.642 | Loss: 0.547 | Lr: 6.079e-05\n",
      "   * EPOCH 20 | Accuracy: 69.383 | Loss: 0.549 | Lr: 5.471e-05\n",
      "   * EPOCH 21 | Accuracy: 69.630 | Loss: 0.556 | Lr: 4.924e-05\n",
      "   * EPOCH 22 | Accuracy: 68.889 | Loss: 0.546 | Lr: 4.431e-05\n",
      "   * EPOCH 23 | Accuracy: 68.642 | Loss: 0.525 | Lr: 3.988e-05\n",
      "   * EPOCH 24 | Accuracy: 72.840 | Loss: 0.552 | Lr: 3.589e-05\n",
      "   * EPOCH 25 | Accuracy: 71.111 | Loss: 0.533 | Lr: 3.231e-05\n",
      "   * EPOCH 26 | Accuracy: 71.111 | Loss: 0.517 | Lr: 2.907e-05\n",
      "   * EPOCH 27 | Accuracy: 71.605 | Loss: 0.509 | Lr: 2.617e-05\n",
      "   * EPOCH 28 | Accuracy: 69.383 | Loss: 0.527 | Lr: 2.355e-05\n",
      "   * EPOCH 29 | Accuracy: 69.383 | Loss: 0.534 | Lr: 2.120e-05\n",
      "   * EPOCH 30 | Accuracy: 71.852 | Loss: 0.498 | Lr: 1.908e-05\n",
      "   * EPOCH 31 | Accuracy: 71.358 | Loss: 0.503 | Lr: 1.717e-05\n",
      "   * EPOCH 32 | Accuracy: 69.383 | Loss: 0.534 | Lr: 1.545e-05\n",
      "   * EPOCH 33 | Accuracy: 71.358 | Loss: 0.536 | Lr: 1.391e-05\n",
      "   * EPOCH 34 | Accuracy: 69.877 | Loss: 0.511 | Lr: 1.252e-05\n",
      "   * EPOCH 35 | Accuracy: 71.852 | Loss: 0.518 | Lr: 1.126e-05\n",
      "   * EPOCH 36 | Accuracy: 69.136 | Loss: 0.523 | Lr: 1.014e-05\n",
      "   * EPOCH 37 | Accuracy: 71.358 | Loss: 0.510 | Lr: 9.124e-06\n",
      "   * EPOCH 38 | Accuracy: 68.642 | Loss: 0.549 | Lr: 8.212e-06\n",
      "   * EPOCH 39 | Accuracy: 70.370 | Loss: 0.542 | Lr: 7.390e-06\n"
     ]
    }
   ],
   "source": [
    "main(dataa, mode=\"train\", weights=class_weights, lr=5e-4)"
   ]
  },
  {
   "cell_type": "code",
   "execution_count": 18,
   "metadata": {},
   "outputs": [
    {
     "name": "stdout",
     "output_type": "stream",
     "text": [
      "=> Starting validate on 'resnet34' model\n",
      "=> Loading checkpoint 'model_best.pth.tar'\n",
      "=> Loaded checkpoint (epoch 25)\n",
      "   * EPOCH 00 | Accuracy: 71.358 | Loss: 0.917 | Lr: 1.000e-03\n"
     ]
    }
   ],
   "source": [
    "main(dataa, mode=\"validate\", resume='model_best.pth.tar')"
   ]
  },
  {
   "cell_type": "code",
   "execution_count": null,
   "metadata": {},
   "outputs": [],
   "source": []
  },
  {
   "cell_type": "markdown",
   "metadata": {},
   "source": [
    "### Run Test"
   ]
  },
  {
   "cell_type": "code",
   "execution_count": null,
   "metadata": {},
   "outputs": [],
   "source": [
    "main(mode=\"test\", resume='model_best.pth.tar')"
   ]
  },
  {
   "cell_type": "code",
   "execution_count": 48,
   "metadata": {},
   "outputs": [
    {
     "data": {
      "text/plain": [
       "DataParallel(\n",
       "  (module): ResNet(\n",
       "    (conv1): Conv2d(3, 64, kernel_size=(7, 7), stride=(2, 2), padding=(3, 3), bias=False)\n",
       "    (bn1): BatchNorm2d(64, eps=1e-05, momentum=0.1, affine=True, track_running_stats=True)\n",
       "    (relu): ReLU(inplace=True)\n",
       "    (maxpool): MaxPool2d(kernel_size=3, stride=2, padding=1, dilation=1, ceil_mode=False)\n",
       "    (layer1): Sequential(\n",
       "      (0): BasicBlock(\n",
       "        (conv1): Conv2d(64, 64, kernel_size=(3, 3), stride=(1, 1), padding=(1, 1), bias=False)\n",
       "        (bn1): BatchNorm2d(64, eps=1e-05, momentum=0.1, affine=True, track_running_stats=True)\n",
       "        (relu): ReLU(inplace=True)\n",
       "        (conv2): Conv2d(64, 64, kernel_size=(3, 3), stride=(1, 1), padding=(1, 1), bias=False)\n",
       "        (bn2): BatchNorm2d(64, eps=1e-05, momentum=0.1, affine=True, track_running_stats=True)\n",
       "      )\n",
       "      (1): BasicBlock(\n",
       "        (conv1): Conv2d(64, 64, kernel_size=(3, 3), stride=(1, 1), padding=(1, 1), bias=False)\n",
       "        (bn1): BatchNorm2d(64, eps=1e-05, momentum=0.1, affine=True, track_running_stats=True)\n",
       "        (relu): ReLU(inplace=True)\n",
       "        (conv2): Conv2d(64, 64, kernel_size=(3, 3), stride=(1, 1), padding=(1, 1), bias=False)\n",
       "        (bn2): BatchNorm2d(64, eps=1e-05, momentum=0.1, affine=True, track_running_stats=True)\n",
       "      )\n",
       "      (2): BasicBlock(\n",
       "        (conv1): Conv2d(64, 64, kernel_size=(3, 3), stride=(1, 1), padding=(1, 1), bias=False)\n",
       "        (bn1): BatchNorm2d(64, eps=1e-05, momentum=0.1, affine=True, track_running_stats=True)\n",
       "        (relu): ReLU(inplace=True)\n",
       "        (conv2): Conv2d(64, 64, kernel_size=(3, 3), stride=(1, 1), padding=(1, 1), bias=False)\n",
       "        (bn2): BatchNorm2d(64, eps=1e-05, momentum=0.1, affine=True, track_running_stats=True)\n",
       "      )\n",
       "    )\n",
       "    (layer2): Sequential(\n",
       "      (0): BasicBlock(\n",
       "        (conv1): Conv2d(64, 128, kernel_size=(3, 3), stride=(2, 2), padding=(1, 1), bias=False)\n",
       "        (bn1): BatchNorm2d(128, eps=1e-05, momentum=0.1, affine=True, track_running_stats=True)\n",
       "        (relu): ReLU(inplace=True)\n",
       "        (conv2): Conv2d(128, 128, kernel_size=(3, 3), stride=(1, 1), padding=(1, 1), bias=False)\n",
       "        (bn2): BatchNorm2d(128, eps=1e-05, momentum=0.1, affine=True, track_running_stats=True)\n",
       "        (downsample): Sequential(\n",
       "          (0): Conv2d(64, 128, kernel_size=(1, 1), stride=(2, 2), bias=False)\n",
       "          (1): BatchNorm2d(128, eps=1e-05, momentum=0.1, affine=True, track_running_stats=True)\n",
       "        )\n",
       "      )\n",
       "      (1): BasicBlock(\n",
       "        (conv1): Conv2d(128, 128, kernel_size=(3, 3), stride=(1, 1), padding=(1, 1), bias=False)\n",
       "        (bn1): BatchNorm2d(128, eps=1e-05, momentum=0.1, affine=True, track_running_stats=True)\n",
       "        (relu): ReLU(inplace=True)\n",
       "        (conv2): Conv2d(128, 128, kernel_size=(3, 3), stride=(1, 1), padding=(1, 1), bias=False)\n",
       "        (bn2): BatchNorm2d(128, eps=1e-05, momentum=0.1, affine=True, track_running_stats=True)\n",
       "      )\n",
       "      (2): BasicBlock(\n",
       "        (conv1): Conv2d(128, 128, kernel_size=(3, 3), stride=(1, 1), padding=(1, 1), bias=False)\n",
       "        (bn1): BatchNorm2d(128, eps=1e-05, momentum=0.1, affine=True, track_running_stats=True)\n",
       "        (relu): ReLU(inplace=True)\n",
       "        (conv2): Conv2d(128, 128, kernel_size=(3, 3), stride=(1, 1), padding=(1, 1), bias=False)\n",
       "        (bn2): BatchNorm2d(128, eps=1e-05, momentum=0.1, affine=True, track_running_stats=True)\n",
       "      )\n",
       "      (3): BasicBlock(\n",
       "        (conv1): Conv2d(128, 128, kernel_size=(3, 3), stride=(1, 1), padding=(1, 1), bias=False)\n",
       "        (bn1): BatchNorm2d(128, eps=1e-05, momentum=0.1, affine=True, track_running_stats=True)\n",
       "        (relu): ReLU(inplace=True)\n",
       "        (conv2): Conv2d(128, 128, kernel_size=(3, 3), stride=(1, 1), padding=(1, 1), bias=False)\n",
       "        (bn2): BatchNorm2d(128, eps=1e-05, momentum=0.1, affine=True, track_running_stats=True)\n",
       "      )\n",
       "    )\n",
       "    (layer3): Sequential(\n",
       "      (0): BasicBlock(\n",
       "        (conv1): Conv2d(128, 256, kernel_size=(3, 3), stride=(2, 2), padding=(1, 1), bias=False)\n",
       "        (bn1): BatchNorm2d(256, eps=1e-05, momentum=0.1, affine=True, track_running_stats=True)\n",
       "        (relu): ReLU(inplace=True)\n",
       "        (conv2): Conv2d(256, 256, kernel_size=(3, 3), stride=(1, 1), padding=(1, 1), bias=False)\n",
       "        (bn2): BatchNorm2d(256, eps=1e-05, momentum=0.1, affine=True, track_running_stats=True)\n",
       "        (downsample): Sequential(\n",
       "          (0): Conv2d(128, 256, kernel_size=(1, 1), stride=(2, 2), bias=False)\n",
       "          (1): BatchNorm2d(256, eps=1e-05, momentum=0.1, affine=True, track_running_stats=True)\n",
       "        )\n",
       "      )\n",
       "      (1): BasicBlock(\n",
       "        (conv1): Conv2d(256, 256, kernel_size=(3, 3), stride=(1, 1), padding=(1, 1), bias=False)\n",
       "        (bn1): BatchNorm2d(256, eps=1e-05, momentum=0.1, affine=True, track_running_stats=True)\n",
       "        (relu): ReLU(inplace=True)\n",
       "        (conv2): Conv2d(256, 256, kernel_size=(3, 3), stride=(1, 1), padding=(1, 1), bias=False)\n",
       "        (bn2): BatchNorm2d(256, eps=1e-05, momentum=0.1, affine=True, track_running_stats=True)\n",
       "      )\n",
       "      (2): BasicBlock(\n",
       "        (conv1): Conv2d(256, 256, kernel_size=(3, 3), stride=(1, 1), padding=(1, 1), bias=False)\n",
       "        (bn1): BatchNorm2d(256, eps=1e-05, momentum=0.1, affine=True, track_running_stats=True)\n",
       "        (relu): ReLU(inplace=True)\n",
       "        (conv2): Conv2d(256, 256, kernel_size=(3, 3), stride=(1, 1), padding=(1, 1), bias=False)\n",
       "        (bn2): BatchNorm2d(256, eps=1e-05, momentum=0.1, affine=True, track_running_stats=True)\n",
       "      )\n",
       "      (3): BasicBlock(\n",
       "        (conv1): Conv2d(256, 256, kernel_size=(3, 3), stride=(1, 1), padding=(1, 1), bias=False)\n",
       "        (bn1): BatchNorm2d(256, eps=1e-05, momentum=0.1, affine=True, track_running_stats=True)\n",
       "        (relu): ReLU(inplace=True)\n",
       "        (conv2): Conv2d(256, 256, kernel_size=(3, 3), stride=(1, 1), padding=(1, 1), bias=False)\n",
       "        (bn2): BatchNorm2d(256, eps=1e-05, momentum=0.1, affine=True, track_running_stats=True)\n",
       "      )\n",
       "      (4): BasicBlock(\n",
       "        (conv1): Conv2d(256, 256, kernel_size=(3, 3), stride=(1, 1), padding=(1, 1), bias=False)\n",
       "        (bn1): BatchNorm2d(256, eps=1e-05, momentum=0.1, affine=True, track_running_stats=True)\n",
       "        (relu): ReLU(inplace=True)\n",
       "        (conv2): Conv2d(256, 256, kernel_size=(3, 3), stride=(1, 1), padding=(1, 1), bias=False)\n",
       "        (bn2): BatchNorm2d(256, eps=1e-05, momentum=0.1, affine=True, track_running_stats=True)\n",
       "      )\n",
       "      (5): BasicBlock(\n",
       "        (conv1): Conv2d(256, 256, kernel_size=(3, 3), stride=(1, 1), padding=(1, 1), bias=False)\n",
       "        (bn1): BatchNorm2d(256, eps=1e-05, momentum=0.1, affine=True, track_running_stats=True)\n",
       "        (relu): ReLU(inplace=True)\n",
       "        (conv2): Conv2d(256, 256, kernel_size=(3, 3), stride=(1, 1), padding=(1, 1), bias=False)\n",
       "        (bn2): BatchNorm2d(256, eps=1e-05, momentum=0.1, affine=True, track_running_stats=True)\n",
       "      )\n",
       "    )\n",
       "    (layer4): Sequential(\n",
       "      (0): BasicBlock(\n",
       "        (conv1): Conv2d(256, 512, kernel_size=(3, 3), stride=(2, 2), padding=(1, 1), bias=False)\n",
       "        (bn1): BatchNorm2d(512, eps=1e-05, momentum=0.1, affine=True, track_running_stats=True)\n",
       "        (relu): ReLU(inplace=True)\n",
       "        (conv2): Conv2d(512, 512, kernel_size=(3, 3), stride=(1, 1), padding=(1, 1), bias=False)\n",
       "        (bn2): BatchNorm2d(512, eps=1e-05, momentum=0.1, affine=True, track_running_stats=True)\n",
       "        (downsample): Sequential(\n",
       "          (0): Conv2d(256, 512, kernel_size=(1, 1), stride=(2, 2), bias=False)\n",
       "          (1): BatchNorm2d(512, eps=1e-05, momentum=0.1, affine=True, track_running_stats=True)\n",
       "        )\n",
       "      )\n",
       "      (1): BasicBlock(\n",
       "        (conv1): Conv2d(512, 512, kernel_size=(3, 3), stride=(1, 1), padding=(1, 1), bias=False)\n",
       "        (bn1): BatchNorm2d(512, eps=1e-05, momentum=0.1, affine=True, track_running_stats=True)\n",
       "        (relu): ReLU(inplace=True)\n",
       "        (conv2): Conv2d(512, 512, kernel_size=(3, 3), stride=(1, 1), padding=(1, 1), bias=False)\n",
       "        (bn2): BatchNorm2d(512, eps=1e-05, momentum=0.1, affine=True, track_running_stats=True)\n",
       "      )\n",
       "      (2): BasicBlock(\n",
       "        (conv1): Conv2d(512, 512, kernel_size=(3, 3), stride=(1, 1), padding=(1, 1), bias=False)\n",
       "        (bn1): BatchNorm2d(512, eps=1e-05, momentum=0.1, affine=True, track_running_stats=True)\n",
       "        (relu): ReLU(inplace=True)\n",
       "        (conv2): Conv2d(512, 512, kernel_size=(3, 3), stride=(1, 1), padding=(1, 1), bias=False)\n",
       "        (bn2): BatchNorm2d(512, eps=1e-05, momentum=0.1, affine=True, track_running_stats=True)\n",
       "      )\n",
       "    )\n",
       "    (avgpool): AdaptiveAvgPool2d(output_size=(1, 1))\n",
       "    (fc): Linear(in_features=512, out_features=6, bias=True)\n",
       "  )\n",
       ")"
      ]
     },
     "execution_count": 48,
     "metadata": {},
     "output_type": "execute_result"
    }
   ],
   "source": [
    "model = models.__dict__[archs[0]](pretrained=True)\n",
    "# Don't update non-classifier learned features in the pretrained networks\n",
    "for param in model.parameters():\n",
    "    param.requires_grad = False\n",
    "model.fc = nn.Linear(model.fc.in_features, 6)\n",
    "model = torch.nn.DataParallel(model).cuda()\n",
    "\n",
    "resume='model_best.pth.tar'\n",
    "checkpoint = torch.load(resume)\n",
    "start_epoch = checkpoint['epoch']\n",
    "best_prec1 = checkpoint['best_prec1']\n",
    "model.load_state_dict(checkpoint['state_dict'])\n",
    "\n",
    "model.eval()\n"
   ]
  },
  {
   "cell_type": "code",
   "execution_count": null,
   "metadata": {},
   "outputs": [],
   "source": []
  },
  {
   "cell_type": "code",
   "execution_count": 79,
   "metadata": {},
   "outputs": [],
   "source": [
    "@torch.no_grad()\n",
    "def get_all_preds(model, loader):\n",
    "    all_preds = torch.tensor([]).cuda()\n",
    "    for batch in loader:\n",
    "        images, labels = batch\n",
    "\n",
    "        preds = model(images)\n",
    "        all_preds = torch.cat(\n",
    "            (all_preds, preds)\n",
    "            ,dim=0\n",
    "        )\n",
    "    return all_preds\n",
    "\n",
    "def get_num_correct(preds, labels):\n",
    "    return preds.argmax(dim=1).eq(labels).sum().item()"
   ]
  },
  {
   "cell_type": "code",
   "execution_count": 68,
   "metadata": {},
   "outputs": [
    {
     "name": "stdout",
     "output_type": "stream",
     "text": [
      "['cemento', 'no_truck', 'otro', 'plataforma', 'volteo', 'volteo_corto']\n"
     ]
    },
    {
     "data": {
      "application/vnd.jupyter.widget-view+json": {
       "model_id": "11334c31da1d4fcaa763fa22d9369a9d",
       "version_major": 2,
       "version_minor": 0
      },
      "text/plain": [
       "  0%|          | 0/32 [00:00<?, ?it/s]"
      ]
     },
     "metadata": {},
     "output_type": "display_data"
    },
    {
     "data": {
      "text/plain": [
       "Counter({'cemento': 28, 'volteo': 4})"
      ]
     },
     "execution_count": 68,
     "metadata": {},
     "output_type": "execute_result"
    }
   ],
   "source": [
    "from PIL import Image\n",
    "import cv2\n",
    "import torch.nn.functional as FF\n",
    "from tqdm.auto import tqdm\n",
    "def process_file(filepath,model, categories):\n",
    "    img_cv2 = cv2.imread(filepath)\n",
    "    img_cv2 = cv2.cvtColor(img_cv2, cv2.COLOR_BGR2RGB)\n",
    "    # First prepare the transformations: resize the image to what the model was trained on and convert it to a tensor\n",
    "    TRANSFORMS = transforms.Compose([\n",
    "            SquarePad(),\n",
    "            transforms.Resize(224),\n",
    "            transforms.ToTensor(),\n",
    "            normalize]\n",
    "            )\n",
    "    img = Image.fromarray(img_cv2)\n",
    "    image = TRANSFORMS(img).unsqueeze(0).cuda()\n",
    "    y = model(image)\n",
    "    #print(f\"---{filepath}---\")\n",
    "    #print('Result:',y)\n",
    "    output = FF.softmax(y, dim=1).detach().cpu().numpy().flatten()\n",
    "    #print('Output:',output)\n",
    "    #print('Result max:',categories[np.argmax(output)])\n",
    "    return categories[np.argmax(output)]\n",
    "\n",
    "def process_folder(folder,model, categories):\n",
    "    values=[]\n",
    "    for file in tqdm(os.listdir(folder)):\n",
    "        filepath = os.path.join(folder, file)\n",
    "        output = process_file(filepath, model, categories)\n",
    "        values.append(output)\n",
    "    return values\n",
    "categories,_ = find_classes(traindir)\n",
    "print(categories)\n",
    "\n",
    "values = process_folder(test_path+'cemento/test/', model, categories)\n",
    "Counter(values)"
   ]
  },
  {
   "cell_type": "code",
   "execution_count": 67,
   "metadata": {},
   "outputs": [
    {
     "data": {
      "text/plain": [
       "Counter({'cemento': 28, 'volteo': 4})"
      ]
     },
     "execution_count": 67,
     "metadata": {},
     "output_type": "execute_result"
    }
   ],
   "source": [
    "Counter(values)"
   ]
  },
  {
   "cell_type": "code",
   "execution_count": 69,
   "metadata": {},
   "outputs": [],
   "source": [
    "torch.save(model, 'trucks_resnet_34_prod.pt')"
   ]
  },
  {
   "cell_type": "code",
   "execution_count": 70,
   "metadata": {},
   "outputs": [
    {
     "data": {
      "application/vnd.jupyter.widget-view+json": {
       "model_id": "baf9c159d6444425a69479b25c3ddf16",
       "version_major": 2,
       "version_minor": 0
      },
      "text/plain": [
       "  0%|          | 0/32 [00:00<?, ?it/s]"
      ]
     },
     "metadata": {},
     "output_type": "display_data"
    },
    {
     "data": {
      "text/plain": [
       "Counter({'cemento': 28, 'volteo': 4})"
      ]
     },
     "execution_count": 70,
     "metadata": {},
     "output_type": "execute_result"
    }
   ],
   "source": [
    "# Model class must be defined somewhere\n",
    "model2 = torch.load('trucks_resnet_34_prod.pt')\n",
    "model2.eval()\n",
    "\n",
    "values = process_folder(test_path+'cemento/test/', model, categories)\n",
    "Counter(values)"
   ]
  },
  {
   "cell_type": "markdown",
   "metadata": {},
   "source": [
    "## Matriz de confusion"
   ]
  },
  {
   "cell_type": "code",
   "execution_count": 76,
   "metadata": {},
   "outputs": [],
   "source": [
    "train_preds = get_all_preds(model, test_loader)"
   ]
  },
  {
   "cell_type": "code",
   "execution_count": 97,
   "metadata": {},
   "outputs": [
    {
     "name": "stdout",
     "output_type": "stream",
     "text": [
      "total correct: 145\n",
      "accuracy: 0.7323232323232324\n"
     ]
    }
   ],
   "source": [
    "N = len(test_loader.dataset.targets)\n",
    "targets = torch.tensor(test_loader.dataset.targets).cuda()\n",
    "preds_correct = get_num_correct(train_preds, targets)\n",
    "preds = train_preds.argmax(dim=1)\n",
    "print('total correct:', preds_correct)\n",
    "print('accuracy:', preds_correct / N)"
   ]
  },
  {
   "cell_type": "code",
   "execution_count": 111,
   "metadata": {},
   "outputs": [
    {
     "data": {
      "text/plain": [
       "<AxesSubplot:>"
      ]
     },
     "execution_count": 111,
     "metadata": {},
     "output_type": "execute_result"
    },
    {
     "data": {
      "image/png": "[encoded data removed]",
      "text/plain": [
       "<Figure size 720x504 with 2 Axes>"
      ]
     },
     "metadata": {
      "needs_background": "light"
     },
     "output_type": "display_data"
    }
   ],
   "source": [
    "from sklearn.metrics import confusion_matrix\n",
    "import seaborn as sn\n",
    "import pandas as pd\n",
    "import matplotlib.pyplot as plt\n",
    "y_true = test_loader.dataset.targets\n",
    "y_pred = train_preds.argmax(dim=1).cpu().tolist()\n",
    "\n",
    "cm = confusion_matrix(y_true, y_pred)\n",
    "df_cm = pd.DataFrame(cm, index = categories,\n",
    "                  columns = categories)\n",
    "plt.figure(figsize = (10,7))\n",
    "sn.heatmap(df_cm, annot=True)"
   ]
  },
  {
   "cell_type": "code",
   "execution_count": null,
   "metadata": {},
   "outputs": [],
   "source": [
    "!pip install seaborn"
   ]
  },
  {
   "cell_type": "code",
   "execution_count": 109,
   "metadata": {},
   "outputs": [
    {
     "data": {
      "image/png": "[encoded data removed]",
      "text/plain": [
       "<Figure size 576x576 with 1 Axes>"
      ]
     },
     "metadata": {
      "needs_background": "light"
     },
     "output_type": "display_data"
    }
   ],
   "source": [
    "from confusion_matrix_pretty_print import plot_confusion_matrix_from_data, pretty_plot_confusion_matrix\n",
    "pretty_plot_confusion_matrix(df_cm)\n"
   ]
  },
  {
   "cell_type": "code",
   "execution_count": 140,
   "metadata": {},
   "outputs": [
    {
     "name": "stdout",
     "output_type": "stream",
     "text": [
      "mv: cannot stat '/home/user/pmptests/train_truck_classifier/data/data_splitted/train/cemento/train/*.*': No such file or directory\n",
      "mv: cannot stat '/home/user/pmptests/train_truck_classifier/data/data_splitted/test/cemento/test/*.*': No such file or directory\n"
     ]
    }
   ],
   "source": [
    "#aca qe tire error y no se ejecte nada\n",
    "kakak\n",
    "dirs = [dirr for dirr in os.listdir(data_dir) if dirr!='content']\n",
    "dirs\n",
    "\n",
    "for dd in dirs:\n",
    "    fold = os.path.join(data_dir,dd)\n",
    "    subs = os.listdir(fold)\n",
    "    for sub in subs:\n",
    "        sss = os.path.join(data_dir, dd, sub, dd)\n",
    "        ss = os.path.join(data_dir, dd, sub)\n",
    "        if os.path.exists(sss):\n",
    "            %mv {sss}/*.* {ss}\n",
    "            %rm -r {sss}\n",
    "            \n",
    "    \n"
   ]
  }
 ],
 "metadata": {
  "anaconda-cloud": {},
  "interpreter": {
   "hash": "31f2aee4e71d21fbe5cf8b01ff0e069b9275f58929596ceb00d14d90e3e16cd6"
  },
  "kernelspec": {
   "display_name": "Python 3",
   "language": "python",
   "name": "python3"
  },
  "language_info": {
   "codemirror_mode": {
    "name": "ipython",
    "version": 3
   },
   "file_extension": ".py",
   "mimetype": "text/x-python",
   "name": "python",
   "nbconvert_exporter": "python",
   "pygments_lexer": "ipython3",
   "version": "3.6.9"
  }
 },
 "nbformat": 4,
 "nbformat_minor": 1
}
