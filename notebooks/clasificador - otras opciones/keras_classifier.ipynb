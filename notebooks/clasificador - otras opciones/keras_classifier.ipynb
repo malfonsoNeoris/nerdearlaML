{
  "nbformat": 4,
  "nbformat_minor": 0,
  "metadata": {
    "kernelspec": {
      "name": "python3",
      "display_name": "Python 3"
    },
    "colab": {
      "name": "demo.ipynb",
      "provenance": []
    },
    "accelerator": "GPU"
  },
  "cells": [
    {
      "cell_type": "markdown",
      "metadata": {
        "id": "qtyyLK5dOku0"
      },
      "source": [
        "### Building an image classification model using very little data  \n",
        "\n",
        "Based on the tutorial by Francois Chollet @fchollet https://blog.keras.io/building-powerful-image-classification-models-using-very-little-data.html and the workbook by Guillaume Dominici https://github.com/gggdominici/keras-workshop\n",
        "\n",
        "This tutorial presents several ways to build an image classifier using keras from just a few hundred or thousand pictures from each class you want to be able to recognize.\n",
        "\n",
        "We will go over the following options:  \n",
        "\n",
        "- training a small network from scratch (as a baseline)  \n",
        "- using the bottleneck features of a pre-trained network  \n",
        "- fine-tuning the top layers of a pre-trained network  \n",
        "  \n",
        "This will lead us to cover the following Keras features:   \n",
        "  \n",
        "- fit_generator for training Keras a model using Python data generators  \n",
        "- ImageDataGenerator for real-time data augmentation  \n",
        "- layer freezing and model fine-tuning  \n",
        "- ...and more.  \n"
      ]
    },
    {
      "cell_type": "markdown",
      "metadata": {
        "id": "Ptt92iXsOku3"
      },
      "source": [
        "## Data"
      ]
    },
    {
      "cell_type": "markdown",
      "metadata": {
        "id": "e-p4PRf8Oku7"
      },
      "source": [
        "Data can be downloaded at:\n",
        "https://www.kaggle.com/c/dogs-vs-cats/data  \n",
        "All you need is the train set  \n",
        "The recommended folder structure is:  "
      ]
    },
    {
      "cell_type": "markdown",
      "metadata": {
        "id": "0MRfSi9KOku9"
      },
      "source": [
        "### Folder structure"
      ]
    },
    {
      "cell_type": "markdown",
      "metadata": {
        "id": "sRIy-8w5Oku-"
      },
      "source": [
        "```python\n",
        "data/\n",
        "    train/\n",
        "        dogs/ ### 1024 pictures\n",
        "            dog001.jpg\n",
        "            dog002.jpg\n",
        "            ...\n",
        "        cats/ ### 1024 pictures\n",
        "            cat001.jpg\n",
        "            cat002.jpg\n",
        "            ...\n",
        "    validation/\n",
        "        dogs/ ### 416 pictures\n",
        "            dog001.jpg\n",
        "            dog002.jpg\n",
        "            ...\n",
        "        cats/ ### 416 pictures\n",
        "            cat001.jpg\n",
        "            cat002.jpg\n",
        "            ...\n",
        "```\n",
        "Note : for this example we only consider 2x1000 training images and 2x400 testing images among the 2x12500 available."
      ]
    },
    {
      "cell_type": "markdown",
      "metadata": {
        "id": "XmiqupnJOkvA"
      },
      "source": [
        "The github repo includes about 1500 images for this model. The original Kaggle dataset is much larger. The purpose of this demo is to show how you can build models with smaller size datasets. You should be able to improve this model by using more data."
      ]
    },
    {
      "cell_type": "code",
      "metadata": {
        "id": "8KrU8PYnPbyU",
        "colab": {
          "base_uri": "https://localhost:8080/",
          "height": 122
        },
        "outputId": "02fe4efe-6129-4f4e-c4f0-2f78afd3c149"
      },
      "source": [
        "#4/qwES3QDmocA8xCr6NAetXoP1zo1ig_gnsKkPD7wFN9ikfoCxAijQ3pw\n",
        "#'gdrive/My Drive/colab/data/odontologia.xlsx'\n",
        "from google.colab import drive\n",
        "drive.mount('/content/gdrive')\n"
      ],
      "execution_count": null,
      "outputs": [
        {
          "output_type": "stream",
          "text": [
            "Go to this URL in a browser: https://accounts.google.com/o/oauth2/auth?client_id=947318989803-6bn6qk8qdgf4n4g3pfee6491hc0brc4i.apps.googleusercontent.com&redirect_uri=urn%3Aietf%3Awg%3Aoauth%3A2.0%3Aoob&scope=email%20https%3A%2F%2Fwww.googleapis.com%2Fauth%2Fdocs.test%20https%3A%2F%2Fwww.googleapis.com%2Fauth%2Fdrive%20https%3A%2F%2Fwww.googleapis.com%2Fauth%2Fdrive.photos.readonly%20https%3A%2F%2Fwww.googleapis.com%2Fauth%2Fpeopleapi.readonly&response_type=code\n",
            "\n",
            "Enter your authorization code:\n",
            "··········\n",
            "Mounted at /content/gdrive\n"
          ],
          "name": "stdout"
        }
      ]
    },
    {
      "cell_type": "markdown",
      "metadata": {
        "id": "rb-ElMalOkvB"
      },
      "source": [
        "### Data loading"
      ]
    },
    {
      "cell_type": "code",
      "metadata": {
        "id": "Bg7jX296OkvH",
        "colab": {
          "base_uri": "https://localhost:8080/",
          "height": 68
        },
        "outputId": "12fbd83a-b488-4427-9a44-7e86396fa9c4"
      },
      "source": [
        "##This notebook is built around using tensorflow as the backend for keras\n",
        "!pip install pillow\n",
        "!KERAS_BACKEND=tensorflow python -c \"from keras import backend\""
      ],
      "execution_count": null,
      "outputs": [
        {
          "output_type": "stream",
          "text": [
            "Requirement already satisfied: pillow in /usr/local/lib/python3.6/dist-packages (4.3.0)\n",
            "Requirement already satisfied: olefile in /usr/local/lib/python3.6/dist-packages (from pillow) (0.46)\n",
            "Using TensorFlow backend.\n"
          ],
          "name": "stdout"
        }
      ]
    },
    {
      "cell_type": "code",
      "metadata": {
        "id": "6Cjo1SYWQMS1",
        "colab": {
          "base_uri": "https://localhost:8080/",
          "height": 34
        },
        "outputId": "36e50b0d-7aa9-4f3f-d41a-0a63599cb28c"
      },
      "source": [
        "import tensorflow as tf\n",
        "sess = tf.Session(config=tf.ConfigProto(log_device_placement=True))\n",
        "from keras import backend as K\n",
        "K.tensorflow_backend._get_available_gpus()"
      ],
      "execution_count": null,
      "outputs": [
        {
          "output_type": "execute_result",
          "data": {
            "text/plain": [
              "['/job:localhost/replica:0/task:0/device:GPU:0']"
            ]
          },
          "metadata": {
            "tags": []
          },
          "execution_count": 5
        }
      ]
    },
    {
      "cell_type": "code",
      "metadata": {
        "id": "59o_oVqZOk0n"
      },
      "source": [
        "import os\n",
        "import numpy as np\n",
        "from keras.models import Sequential\n",
        "from keras.layers import Activation, Dropout, Flatten, Dense\n",
        "from keras.preprocessing.image import ImageDataGenerator\n",
        "from keras.layers import Convolution2D, MaxPooling2D, ZeroPadding2D\n",
        "from keras import optimizers"
      ],
      "execution_count": null,
      "outputs": []
    },
    {
      "cell_type": "code",
      "metadata": {
        "id": "i9aQ06zaOk4F"
      },
      "source": [
        "# dimensions of our images.\n",
        "img_width, img_height = 100, 100\n",
        "path='gdrive/My Drive/Colab Notebooks/how_to_make_an_image_classifier-master'\n",
        "train_data_dir = os.path.join(path, 'data/train')\n",
        "validation_data_dir = os.path.join(path, 'data/validation')"
      ],
      "execution_count": null,
      "outputs": []
    },
    {
      "cell_type": "code",
      "metadata": {
        "id": "l_zE5hiIShsr",
        "colab": {
          "base_uri": "https://localhost:8080/",
          "height": 34
        },
        "outputId": "e535f59c-0643-42e1-dd64-b2abaf783c20"
      },
      "source": [
        "os.path.exists(validation_data_dir)\n"
      ],
      "execution_count": null,
      "outputs": [
        {
          "output_type": "execute_result",
          "data": {
            "text/plain": [
              "True"
            ]
          },
          "metadata": {
            "tags": []
          },
          "execution_count": 24
        }
      ]
    },
    {
      "cell_type": "markdown",
      "metadata": {
        "id": "HQ8h_0uYOk4K"
      },
      "source": [
        "### Imports"
      ]
    },
    {
      "cell_type": "code",
      "metadata": {
        "id": "5Xeeh5CVOk4M",
        "colab": {
          "base_uri": "https://localhost:8080/",
          "height": 51
        },
        "outputId": "5ef031c6-b3ec-4576-cebe-49017a59dd90"
      },
      "source": [
        "# used to rescale the pixel values from [0, 255] to [0, 1] interval\n",
        "datagen = ImageDataGenerator(rescale=1./255)\n",
        "\n",
        "# automagically retrieve images and their classes for train and validation sets\n",
        "train_generator = datagen.flow_from_directory(\n",
        "        train_data_dir,\n",
        "        target_size=(img_width, img_height),\n",
        "        batch_size=16,\n",
        "        class_mode='binary')\n",
        "\n",
        "validation_generator = datagen.flow_from_directory(\n",
        "        validation_data_dir,\n",
        "        target_size=(img_width, img_height),\n",
        "        batch_size=32,\n",
        "        class_mode='binary')"
      ],
      "execution_count": null,
      "outputs": [
        {
          "output_type": "stream",
          "text": [
            "Found 704 images belonging to 2 classes.\n",
            "Found 352 images belonging to 2 classes.\n"
          ],
          "name": "stdout"
        }
      ]
    },
    {
      "cell_type": "markdown",
      "metadata": {
        "id": "dXRP6_dnOk5z"
      },
      "source": [
        "## Small Conv Net"
      ]
    },
    {
      "cell_type": "markdown",
      "metadata": {
        "id": "hKiURNbyOk6k"
      },
      "source": [
        "### Model architecture definition"
      ]
    },
    {
      "cell_type": "code",
      "metadata": {
        "id": "lPfNzWCsOk6y"
      },
      "source": [
        "model = Sequential()\n",
        "model.add(Convolution2D(32, (3, 3), input_shape=(img_width, img_height,3)))\n",
        "model.add(Activation('relu'))\n",
        "model.add(MaxPooling2D(pool_size=(2, 2)))\n",
        "\n",
        "model.add(Convolution2D(32, (3, 3)))\n",
        "model.add(Activation('relu'))\n",
        "model.add(MaxPooling2D(pool_size=(2, 2)))\n",
        "\n",
        "model.add(Convolution2D(64, (3, 3)))\n",
        "model.add(Activation('relu'))\n",
        "model.add(MaxPooling2D(pool_size=(2, 2)))\n",
        "\n",
        "model.add(Flatten())\n",
        "model.add(Dense(64))\n",
        "model.add(Activation('relu'))\n",
        "model.add(Dropout(0.5))\n",
        "model.add(Dense(1))\n",
        "model.add(Activation('sigmoid'))"
      ],
      "execution_count": null,
      "outputs": []
    },
    {
      "cell_type": "code",
      "metadata": {
        "id": "wiExBEpLOk9D",
        "colab": {
          "base_uri": "https://localhost:8080/",
          "height": 122
        },
        "outputId": "eec9b9a7-916a-4063-b344-a246d9204f37"
      },
      "source": [
        "model.compile(loss='binary_crossentropy',\n",
        "              optimizer='rmsprop',\n",
        "              metrics=['accuracy'])"
      ],
      "execution_count": null,
      "outputs": [
        {
          "output_type": "stream",
          "text": [
            "WARNING:tensorflow:From /usr/local/lib/python3.6/dist-packages/keras/optimizers.py:793: The name tf.train.Optimizer is deprecated. Please use tf.compat.v1.train.Optimizer instead.\n",
            "\n",
            "WARNING:tensorflow:From /usr/local/lib/python3.6/dist-packages/tensorflow/python/ops/nn_impl.py:180: add_dispatch_support.<locals>.wrapper (from tensorflow.python.ops.array_ops) is deprecated and will be removed in a future version.\n",
            "Instructions for updating:\n",
            "Use tf.where in 2.0, which has the same broadcast rule as np.where\n"
          ],
          "name": "stdout"
        }
      ]
    },
    {
      "cell_type": "markdown",
      "metadata": {
        "id": "voU55nfBOk9I"
      },
      "source": [
        "### Training"
      ]
    },
    {
      "cell_type": "code",
      "metadata": {
        "id": "FwJn21hOOk9J",
        "colab": {
          "base_uri": "https://localhost:8080/",
          "height": 51
        },
        "outputId": "dbb3fd4e-ac4d-4fc6-98fa-da0a9f773124"
      },
      "source": [
        "nb_epoch = 20\n",
        "_,(train_c0,train_c1)=np.unique(train_generator.classes, return_counts=True)\n",
        "nb_train_samples=train_c0+train_c1\n",
        "print(nb_train_samples)\n",
        "_,(val_c0,val_c1)=np.unique(validation_generator.classes, return_counts=True)\n",
        "nb_validation_samples=val_c0+val_c1\n",
        "print(nb_validation_samples)\n"
      ],
      "execution_count": null,
      "outputs": [
        {
          "output_type": "stream",
          "text": [
            "704\n",
            "352\n"
          ],
          "name": "stdout"
        }
      ]
    },
    {
      "cell_type": "code",
      "metadata": {
        "id": "GeK2Wxu6Ok9N"
      },
      "source": [
        "model.fit_generator(\n",
        "        train_generator,\n",
        "        samples_per_epoch=nb_train_samples,\n",
        "        nb_epoch=nb_epoch,\n",
        "        validation_data=validation_generator,\n",
        "        nb_val_samples=nb_validation_samples)"
      ],
      "execution_count": null,
      "outputs": []
    },
    {
      "cell_type": "code",
      "metadata": {
        "id": "CBMCs0WKOlAB"
      },
      "source": [
        "#model.save_weights('models/basic_cnn_20_epochs.h5')\n",
        "model.save('models/basic_cnn.h5')\n",
        "del model"
      ],
      "execution_count": null,
      "outputs": []
    },
    {
      "cell_type": "code",
      "metadata": {
        "id": "rmcOO6R5OlAL",
        "outputId": "17a6cb7a-6d9d-412d-9279-3ae8eded75d1"
      },
      "source": [
        "#model.load_weights('models/basic_cnn_20_epochs.h5')\n",
        "from keras.models import load_model\n",
        "model = load_model('models/basic_cnn.h5')\n",
        "model.summary()"
      ],
      "execution_count": null,
      "outputs": [
        {
          "output_type": "stream",
          "text": [
            "_________________________________________________________________\n",
            "Layer (type)                 Output Shape              Param #   \n",
            "=================================================================\n",
            "conv2d_1 (Conv2D)            (None, 98, 98, 32)        896       \n",
            "_________________________________________________________________\n",
            "activation_1 (Activation)    (None, 98, 98, 32)        0         \n",
            "_________________________________________________________________\n",
            "max_pooling2d_1 (MaxPooling2 (None, 49, 49, 32)        0         \n",
            "_________________________________________________________________\n",
            "conv2d_2 (Conv2D)            (None, 47, 47, 32)        9248      \n",
            "_________________________________________________________________\n",
            "activation_2 (Activation)    (None, 47, 47, 32)        0         \n",
            "_________________________________________________________________\n",
            "max_pooling2d_2 (MaxPooling2 (None, 23, 23, 32)        0         \n",
            "_________________________________________________________________\n",
            "conv2d_3 (Conv2D)            (None, 21, 21, 64)        18496     \n",
            "_________________________________________________________________\n",
            "activation_3 (Activation)    (None, 21, 21, 64)        0         \n",
            "_________________________________________________________________\n",
            "max_pooling2d_3 (MaxPooling2 (None, 10, 10, 64)        0         \n",
            "_________________________________________________________________\n",
            "flatten_1 (Flatten)          (None, 6400)              0         \n",
            "_________________________________________________________________\n",
            "dense_1 (Dense)              (None, 64)                409664    \n",
            "_________________________________________________________________\n",
            "activation_4 (Activation)    (None, 64)                0         \n",
            "_________________________________________________________________\n",
            "dropout_1 (Dropout)          (None, 64)                0         \n",
            "_________________________________________________________________\n",
            "dense_2 (Dense)              (None, 1)                 65        \n",
            "_________________________________________________________________\n",
            "activation_5 (Activation)    (None, 1)                 0         \n",
            "=================================================================\n",
            "Total params: 438,369\n",
            "Trainable params: 438,369\n",
            "Non-trainable params: 0\n",
            "_________________________________________________________________\n"
          ],
          "name": "stdout"
        }
      ]
    },
    {
      "cell_type": "markdown",
      "metadata": {
        "id": "KKo3wqxuOlAQ"
      },
      "source": [
        "If your model successfully runs at one epoch, go back and it for 30 epochs by changing nb_epoch above.  I was able to get to an val_acc of 0.71 at 30 epochs.\n",
        "A copy of a pretrained network is available in the pretrained folder."
      ]
    },
    {
      "cell_type": "markdown",
      "metadata": {
        "id": "Rzj3nhllOlAR"
      },
      "source": [
        "### Evaluating on validation set"
      ]
    },
    {
      "cell_type": "markdown",
      "metadata": {
        "id": "KyoRTC9yOlAT"
      },
      "source": [
        "Computing loss and accuracy :"
      ]
    },
    {
      "cell_type": "code",
      "metadata": {
        "id": "RcmSgpCIOlAU",
        "colab": {
          "base_uri": "https://localhost:8080/",
          "height": 34
        },
        "outputId": "bf341179-7f3a-4319-98d3-8a4d511f3cb2"
      },
      "source": [
        "model.evaluate_generator(validation_generator, nb_validation_samples)"
      ],
      "execution_count": null,
      "outputs": [
        {
          "output_type": "execute_result",
          "data": {
            "text/plain": [
              "[0.4057888857681643, 0.84375]"
            ]
          },
          "metadata": {
            "tags": []
          },
          "execution_count": 62
        }
      ]
    },
    {
      "cell_type": "markdown",
      "metadata": {
        "id": "_IWrWlTsOlAb"
      },
      "source": [
        "Evolution of accuracy on training (blue) and validation (green) sets for 1 to 32 epochs :"
      ]
    },
    {
      "cell_type": "markdown",
      "metadata": {
        "id": "JQ2ss-INOlAc"
      },
      "source": [
        "![Accuracy evolution](pictures/scores_no_dataaugmentation.png)"
      ]
    },
    {
      "cell_type": "markdown",
      "metadata": {
        "id": "cNr99NdpOlAd"
      },
      "source": [
        "**After ~10 epochs the neural network reach ~70% accuracy. We can witness overfitting, no progress is made over validation set in the next epochs**"
      ]
    },
    {
      "cell_type": "markdown",
      "metadata": {
        "id": "i3xE8gOuOlAe"
      },
      "source": [
        "## Data augmentation for improving the model"
      ]
    },
    {
      "cell_type": "markdown",
      "metadata": {
        "id": "1PRCR1lVOlAh"
      },
      "source": [
        "By applying random transformation to our train set, we artificially enhance our dataset with new unseen images.  \n",
        "This will hopefully reduce overfitting and allows better generalization capability for our network."
      ]
    },
    {
      "cell_type": "markdown",
      "metadata": {
        "id": "ZuEFZApzOlAi"
      },
      "source": [
        "Example of data augmentation applied to a picture:\n",
        "![Example of data augmentation applied to a picture](pictures/cat_data_augmentation.png)"
      ]
    },
    {
      "cell_type": "code",
      "metadata": {
        "id": "iwB_2AQsOlAk",
        "outputId": "24988345-f55f-468e-ff3a-44a58d0c2193"
      },
      "source": [
        "train_datagen_augmented = ImageDataGenerator(\n",
        "        rescale=1./255,        # normalize pixel values to [0,1]\n",
        "        shear_range=0.2,       # randomly applies shearing transformation\n",
        "        zoom_range=0.2,        # randomly applies shearing transformation\n",
        "        horizontal_flip=True)  # randomly flip the images\n",
        "\n",
        "# same code as before\n",
        "train_generator_augmented = train_datagen_augmented.flow_from_directory(\n",
        "        train_data_dir,\n",
        "        target_size=(img_width, img_height),\n",
        "        batch_size=32,\n",
        "        class_mode='binary')\n",
        "\n",
        "_,(train_c0,train_c1)=np.unique(train_generator_augmented.classes, return_counts=True)\n",
        "nb_train_samples=train_c0+train_c1\n",
        "print(nb_train_samples)"
      ],
      "execution_count": null,
      "outputs": [
        {
          "output_type": "stream",
          "text": [
            "Found 704 images belonging to 2 classes.\n",
            "704\n"
          ],
          "name": "stdout"
        }
      ]
    },
    {
      "cell_type": "code",
      "metadata": {
        "id": "W1oC1aakOlAr"
      },
      "source": [
        "model.fit_generator(\n",
        "        train_generator_augmented,\n",
        "        samples_per_epoch=nb_train_samples,\n",
        "        nb_epoch=nb_epoch,\n",
        "        validation_data=validation_generator,\n",
        "        nb_val_samples=nb_validation_samples)"
      ],
      "execution_count": null,
      "outputs": []
    },
    {
      "cell_type": "code",
      "metadata": {
        "id": "ZxHS7pqtOlAx"
      },
      "source": [
        "model.save_weights('models/augmented_20_epochs.h5')"
      ],
      "execution_count": null,
      "outputs": []
    },
    {
      "cell_type": "code",
      "metadata": {
        "id": "dpJ9ceuXOlA2"
      },
      "source": [
        "#model.load_weights('models_trained/augmented_30_epochs.h5')"
      ],
      "execution_count": null,
      "outputs": []
    },
    {
      "cell_type": "markdown",
      "metadata": {
        "id": "Eeiv8LnMOlA_"
      },
      "source": [
        "### Evaluating on validation set"
      ]
    },
    {
      "cell_type": "markdown",
      "metadata": {
        "id": "YZtQpKt2OlBB"
      },
      "source": [
        "Computing loss and accuracy :"
      ]
    },
    {
      "cell_type": "code",
      "metadata": {
        "id": "JjVKpixSOlBE"
      },
      "source": [
        "scores=model.evaluate_generator(validation_generator, nb_validation_samples)"
      ],
      "execution_count": null,
      "outputs": []
    },
    {
      "cell_type": "markdown",
      "metadata": {
        "id": "IvdCN5UdOlBK"
      },
      "source": [
        "Evolution of accuracy on training (blue) and validation (green) sets for 1 to 100 epochs :"
      ]
    },
    {
      "cell_type": "markdown",
      "metadata": {
        "id": "JHSA1LGgOlBM"
      },
      "source": [
        "![Accuracy evolution](pictures/scores_with_dataaugmentation.png)"
      ]
    },
    {
      "cell_type": "markdown",
      "metadata": {
        "id": "yA5buNPEOlBP"
      },
      "source": [
        "**Thanks to data-augmentation, the accuracy on the validation set improved to ~80%**"
      ]
    },
    {
      "cell_type": "markdown",
      "metadata": {
        "id": "VELP-E37OlBQ"
      },
      "source": [
        "## Using a pre-trained model"
      ]
    },
    {
      "cell_type": "markdown",
      "metadata": {
        "id": "GJlVdTguOlBT"
      },
      "source": [
        "The process of training a convolutionnal neural network can be very time-consuming and require a lot of datas.  \n",
        "\n",
        "We can go beyond the previous models in terms of performance and efficiency by using a general-purpose, pre-trained image classifier.  This example uses VGG16, a model trained on the ImageNet dataset - which contains millions of images classified in 1000 categories. \n",
        "\n",
        "On top of it, we add a small multi-layer perceptron and we train it on our dataset."
      ]
    },
    {
      "cell_type": "markdown",
      "metadata": {
        "id": "6vr5WqShOlBU"
      },
      "source": [
        "### VGG16 + small MLP\n",
        "![VGG16 + Dense layers Schema](pictures/vgg16_original.png)"
      ]
    },
    {
      "cell_type": "markdown",
      "metadata": {
        "id": "Vshs2I_aOlBW"
      },
      "source": [
        "#### VGG16 model architecture definition"
      ]
    },
    {
      "cell_type": "code",
      "metadata": {
        "id": "HrxvXko1OlBX"
      },
      "source": [
        "model_vgg = Sequential()\n",
        "model_vgg.add(ZeroPadding2D((1, 1), input_shape=(img_width, img_height,3)))\n",
        "model_vgg.add(Convolution2D(64, (3, 3), activation='relu', name='conv1_1'))\n",
        "model_vgg.add(ZeroPadding2D((1, 1)))\n",
        "model_vgg.add(Convolution2D(64, (3, 3), activation='relu', name='conv1_2'))\n",
        "model_vgg.add(MaxPooling2D((2, 2), strides=(2, 2)))\n",
        "\n",
        "model_vgg.add(ZeroPadding2D((1, 1)))\n",
        "model_vgg.add(Convolution2D(128, (3, 3), activation='relu', name='conv2_1'))\n",
        "model_vgg.add(ZeroPadding2D((1, 1)))\n",
        "model_vgg.add(Convolution2D(128, (3, 3), activation='relu', name='conv2_2'))\n",
        "model_vgg.add(MaxPooling2D((2, 2), strides=(2, 2)))\n",
        "\n",
        "model_vgg.add(ZeroPadding2D((1, 1)))\n",
        "model_vgg.add(Convolution2D(256, (3, 3), activation='relu', name='conv3_1'))\n",
        "model_vgg.add(ZeroPadding2D((1, 1)))\n",
        "model_vgg.add(Convolution2D(256, (3, 3), activation='relu', name='conv3_2'))\n",
        "model_vgg.add(ZeroPadding2D((1, 1)))\n",
        "model_vgg.add(Convolution2D(256, (3, 3), activation='relu', name='conv3_3'))\n",
        "model_vgg.add(MaxPooling2D((2, 2), strides=(2, 2)))\n",
        "\n",
        "model_vgg.add(ZeroPadding2D((1, 1)))\n",
        "model_vgg.add(Convolution2D(512, (3, 3), activation='relu', name='conv4_1'))\n",
        "model_vgg.add(ZeroPadding2D((1, 1)))\n",
        "model_vgg.add(Convolution2D(512, (3, 3), activation='relu', name='conv4_2'))\n",
        "model_vgg.add(ZeroPadding2D((1, 1)))\n",
        "model_vgg.add(Convolution2D(512, (3, 3), activation='relu', name='conv4_3'))\n",
        "model_vgg.add(MaxPooling2D((2, 2), strides=(2, 2)))\n",
        "\n",
        "model_vgg.add(ZeroPadding2D((1, 1)))\n",
        "model_vgg.add(Convolution2D(512, (3, 3), activation='relu', name='conv5_1'))\n",
        "model_vgg.add(ZeroPadding2D((1, 1)))\n",
        "model_vgg.add(Convolution2D(512, (3, 3), activation='relu', name='conv5_2'))\n",
        "model_vgg.add(ZeroPadding2D((1, 1)))\n",
        "model_vgg.add(Convolution2D(512, (3, 3), activation='relu', name='conv5_3'))\n",
        "model_vgg.add(MaxPooling2D((2, 2), strides=(2, 2)))"
      ],
      "execution_count": null,
      "outputs": []
    },
    {
      "cell_type": "markdown",
      "metadata": {
        "id": "I0g_-I4JOlBc"
      },
      "source": [
        "#### Loading VGG16 weights\n",
        "This part is a bit complicated because the structure of our model is not exactly the same as the one used when training weights.  \n",
        "Otherwise, we would use the `model.load_weights()` method."
      ]
    },
    {
      "cell_type": "markdown",
      "metadata": {
        "id": "OpsVsz8nOlBe"
      },
      "source": [
        "*Note : the VGG16 weights file (~500MB) is not included in this repository. You can download from here :  \n",
        "https://gist.github.com/baraldilorenzo/07d7802847aaad0a35d3*"
      ]
    },
    {
      "cell_type": "code",
      "metadata": {
        "id": "Oiq_u8-kOlBf"
      },
      "source": [
        "import h5py\n",
        "f = h5py.File(os.path.join(path,'models/vgg16_weights.h5'))\n",
        "for k in range(f.attrs['nb_layers']):\n",
        "    if k >= len(model_vgg.layers) - 1:\n",
        "        # we don't look at the last two layers in the savefile (fully-connected and activation)\n",
        "        break\n",
        "    g = f['layer_{}'.format(k)]\n",
        "    weights = [g['param_{}'.format(p)] for p in range(g.attrs['nb_params'])]\n",
        "    layer = model_vgg.layers[k]    \n",
        "    if layer.__class__.__name__ in ['Convolution1D', 'Convolution2D', 'Convolution3D', 'AtrousConvolution2D']:\n",
        "        weights[0] = np.transpose(weights[0], (2, 3, 1, 0))\n",
        "    elif layer.__class__.__name__ in ['Conv1D', 'Conv2D', 'Conv3D', 'AtrousConvolution2D']:\n",
        "        weights[0] = np.transpose(weights[0], (2, 3, 1, 0))\n",
        "    layer.set_weights(weights)\n",
        "\n",
        "f.close()"
      ],
      "execution_count": null,
      "outputs": []
    },
    {
      "cell_type": "markdown",
      "metadata": {
        "id": "_SaS6OJYOlBi"
      },
      "source": [
        "### Using the VGG16 model to process samples"
      ]
    },
    {
      "cell_type": "code",
      "metadata": {
        "id": "Rvnmla7sOlBq",
        "outputId": "e969a6c5-845f-4b0b-ea4a-c1729d24e53d"
      },
      "source": [
        "train_generator_bottleneck = datagen.flow_from_directory(\n",
        "        train_data_dir,\n",
        "        target_size=(img_width, img_height),\n",
        "        batch_size=32,\n",
        "        class_mode=None,\n",
        "        shuffle=False)\n",
        "\n",
        "validation_generator_bottleneck = datagen.flow_from_directory(\n",
        "        validation_data_dir,\n",
        "        target_size=(img_width, img_height),\n",
        "        batch_size=32,\n",
        "        class_mode=None,\n",
        "        shuffle=False)\n",
        "\n",
        "_,(train_c0,train_c1)=np.unique(train_generator_bottleneck.classes, return_counts=True)\n",
        "nb_train_samples=train_c0+train_c1\n",
        "print(nb_train_samples)\n",
        "_,(val_c0,val_c1)=np.unique(validation_generator_bottleneck.classes, return_counts=True)\n",
        "nb_validation_samples=val_c0+val_c1\n",
        "print(nb_validation_samples)\n",
        "\n"
      ],
      "execution_count": null,
      "outputs": [
        {
          "output_type": "stream",
          "text": [
            "Found 704 images belonging to 2 classes.\n",
            "Found 352 images belonging to 2 classes.\n",
            "704\n",
            "352\n"
          ],
          "name": "stdout"
        }
      ]
    },
    {
      "cell_type": "markdown",
      "metadata": {
        "id": "VRkgwmlVOlBu"
      },
      "source": [
        "This is a long process, so we save the output of the VGG16 once and for all.  "
      ]
    },
    {
      "cell_type": "code",
      "metadata": {
        "id": "WqyeboMEOlBv"
      },
      "source": [
        "bottleneck_features_train = model_vgg.predict_generator(train_generator_bottleneck, nb_train_samples//32)\n",
        "np.save(open('models/bottleneck_features_train.npy', 'wb'), bottleneck_features_train)"
      ],
      "execution_count": null,
      "outputs": []
    },
    {
      "cell_type": "code",
      "metadata": {
        "id": "Gbp9vw4AOlB1"
      },
      "source": [
        "bottleneck_features_validation = model_vgg.predict_generator(validation_generator_bottleneck, nb_validation_samples//32)\n",
        "np.save(open('models/bottleneck_features_validation.npy', 'wb'), bottleneck_features_validation)"
      ],
      "execution_count": null,
      "outputs": []
    },
    {
      "cell_type": "markdown",
      "metadata": {
        "id": "eX9_VaxqOlB-"
      },
      "source": [
        "Now we can load it..."
      ]
    },
    {
      "cell_type": "code",
      "metadata": {
        "id": "BGFk6cvkOlB_"
      },
      "source": [
        "train_data = np.load(open(os.path.join(path,'models/bottleneck_features_train.npy'), 'rb'))\n",
        "train_labels = np.array([0] * (train_c0 ) + [1] * (train_c1))\n",
        "\n",
        "validation_data = np.load(open(os.path.join(path,'models/bottleneck_features_validation.npy'), 'rb'))\n",
        "validation_labels = np.array([0] * (val_c0 ) + [1] * (val_c1 ))"
      ],
      "execution_count": null,
      "outputs": []
    },
    {
      "cell_type": "code",
      "metadata": {
        "id": "ddwt51saOlCC",
        "colab": {
          "base_uri": "https://localhost:8080/",
          "height": 34
        },
        "outputId": "23a3875e-ab30-49b5-8530-b64843e92e6c"
      },
      "source": [
        "train_data.shape"
      ],
      "execution_count": null,
      "outputs": [
        {
          "output_type": "execute_result",
          "data": {
            "text/plain": [
              "(704, 3, 3, 512)"
            ]
          },
          "metadata": {
            "tags": []
          },
          "execution_count": 33
        }
      ]
    },
    {
      "cell_type": "markdown",
      "metadata": {
        "id": "4DyqUGSIOlCH"
      },
      "source": [
        "And define and train the custom fully connected neural network :"
      ]
    },
    {
      "cell_type": "code",
      "metadata": {
        "id": "FPyViKegOlCI"
      },
      "source": [
        "model_top = Sequential()\n",
        "model_top.add(Flatten(input_shape=train_data.shape[1:]))\n",
        "model_top.add(Dense(256, activation='relu'))\n",
        "model_top.add(Dropout(0.5))\n",
        "model_top.add(Dense(1, activation='sigmoid'))\n",
        "\n",
        "model_top.compile(optimizer='rmsprop', loss='binary_crossentropy', metrics=['accuracy'])"
      ],
      "execution_count": null,
      "outputs": []
    },
    {
      "cell_type": "code",
      "metadata": {
        "id": "TuTG4NZpOlCN",
        "colab": {
          "base_uri": "https://localhost:8080/",
          "height": 1000
        },
        "outputId": "7507e3ac-2093-4f4a-97e5-7a30dbe95215"
      },
      "source": [
        "nb_epoch=40\n",
        "model_top.fit(train_data, train_labels,\n",
        "          epochs=nb_epoch, batch_size=32,\n",
        "          validation_data=(validation_data, validation_labels))"
      ],
      "execution_count": null,
      "outputs": [
        {
          "output_type": "stream",
          "text": [
            "Train on 704 samples, validate on 352 samples\n",
            "Epoch 1/40\n",
            "704/704 [==============================] - 0s 226us/step - loss: 0.2772 - acc: 0.8665 - val_loss: 2.7021 - val_acc: 0.7642\n",
            "Epoch 2/40\n",
            "704/704 [==============================] - 0s 206us/step - loss: 0.2802 - acc: 0.8707 - val_loss: 2.8506 - val_acc: 0.6080\n",
            "Epoch 3/40\n",
            "704/704 [==============================] - 0s 219us/step - loss: 0.2627 - acc: 0.8679 - val_loss: 2.7920 - val_acc: 0.7045\n",
            "Epoch 4/40\n",
            "704/704 [==============================] - 0s 214us/step - loss: 0.2627 - acc: 0.8580 - val_loss: 2.8489 - val_acc: 0.6335\n",
            "Epoch 5/40\n",
            "704/704 [==============================] - 0s 220us/step - loss: 0.2489 - acc: 0.8793 - val_loss: 2.9264 - val_acc: 0.6051\n",
            "Epoch 6/40\n",
            "704/704 [==============================] - 0s 246us/step - loss: 0.2641 - acc: 0.8736 - val_loss: 2.6553 - val_acc: 0.7841\n",
            "Epoch 7/40\n",
            "704/704 [==============================] - 0s 213us/step - loss: 0.2496 - acc: 0.8736 - val_loss: 2.8039 - val_acc: 0.7074\n",
            "Epoch 8/40\n",
            "704/704 [==============================] - 0s 216us/step - loss: 0.2638 - acc: 0.8608 - val_loss: 2.6507 - val_acc: 0.7756\n",
            "Epoch 9/40\n",
            "704/704 [==============================] - 0s 215us/step - loss: 0.2608 - acc: 0.8778 - val_loss: 2.6182 - val_acc: 0.7869\n",
            "Epoch 10/40\n",
            "704/704 [==============================] - 0s 218us/step - loss: 0.2501 - acc: 0.8665 - val_loss: 2.9412 - val_acc: 0.5881\n",
            "Epoch 11/40\n",
            "704/704 [==============================] - 0s 212us/step - loss: 0.2411 - acc: 0.8864 - val_loss: 2.6084 - val_acc: 0.7983\n",
            "Epoch 12/40\n",
            "704/704 [==============================] - 0s 224us/step - loss: 0.2454 - acc: 0.8878 - val_loss: 2.7105 - val_acc: 0.7585\n",
            "Epoch 13/40\n",
            "704/704 [==============================] - 0s 237us/step - loss: 0.2465 - acc: 0.8764 - val_loss: 2.6980 - val_acc: 0.7642\n",
            "Epoch 14/40\n",
            "704/704 [==============================] - 0s 221us/step - loss: 0.2532 - acc: 0.8778 - val_loss: 2.6767 - val_acc: 0.7727\n",
            "Epoch 15/40\n",
            "704/704 [==============================] - 0s 219us/step - loss: 0.2503 - acc: 0.8764 - val_loss: 2.8005 - val_acc: 0.7131\n",
            "Epoch 16/40\n",
            "704/704 [==============================] - 0s 213us/step - loss: 0.2397 - acc: 0.8750 - val_loss: 2.9579 - val_acc: 0.6108\n",
            "Epoch 17/40\n",
            "704/704 [==============================] - 0s 239us/step - loss: 0.2390 - acc: 0.8835 - val_loss: 2.7283 - val_acc: 0.7557\n",
            "Epoch 18/40\n",
            "704/704 [==============================] - 0s 218us/step - loss: 0.2340 - acc: 0.8807 - val_loss: 2.7478 - val_acc: 0.7528\n",
            "Epoch 19/40\n",
            "704/704 [==============================] - 0s 223us/step - loss: 0.2351 - acc: 0.8906 - val_loss: 2.8171 - val_acc: 0.6705\n",
            "Epoch 20/40\n",
            "704/704 [==============================] - 0s 209us/step - loss: 0.2274 - acc: 0.8935 - val_loss: 2.8463 - val_acc: 0.6449\n",
            "Epoch 21/40\n",
            "704/704 [==============================] - 0s 214us/step - loss: 0.2252 - acc: 0.8920 - val_loss: 2.6908 - val_acc: 0.7670\n",
            "Epoch 22/40\n",
            "704/704 [==============================] - 0s 210us/step - loss: 0.2117 - acc: 0.9034 - val_loss: 2.7491 - val_acc: 0.7472\n",
            "Epoch 23/40\n",
            "704/704 [==============================] - 0s 222us/step - loss: 0.2300 - acc: 0.8878 - val_loss: 2.8761 - val_acc: 0.6506\n",
            "Epoch 24/40\n",
            "704/704 [==============================] - 0s 227us/step - loss: 0.2451 - acc: 0.8778 - val_loss: 2.8104 - val_acc: 0.7017\n",
            "Epoch 25/40\n",
            "704/704 [==============================] - 0s 216us/step - loss: 0.2235 - acc: 0.9048 - val_loss: 2.9302 - val_acc: 0.6250\n",
            "Epoch 26/40\n",
            "704/704 [==============================] - 0s 232us/step - loss: 0.2119 - acc: 0.9062 - val_loss: 2.8235 - val_acc: 0.6847\n",
            "Epoch 27/40\n",
            "704/704 [==============================] - 0s 225us/step - loss: 0.2272 - acc: 0.8849 - val_loss: 2.7138 - val_acc: 0.7585\n",
            "Epoch 28/40\n",
            "704/704 [==============================] - 0s 220us/step - loss: 0.2174 - acc: 0.9020 - val_loss: 2.6687 - val_acc: 0.7784\n",
            "Epoch 29/40\n",
            "704/704 [==============================] - 0s 215us/step - loss: 0.2117 - acc: 0.9006 - val_loss: 2.7310 - val_acc: 0.7557\n",
            "Epoch 30/40\n",
            "704/704 [==============================] - 0s 220us/step - loss: 0.2267 - acc: 0.8793 - val_loss: 2.7313 - val_acc: 0.7614\n",
            "Epoch 31/40\n",
            "704/704 [==============================] - 0s 212us/step - loss: 0.2222 - acc: 0.8977 - val_loss: 2.7716 - val_acc: 0.7301\n",
            "Epoch 32/40\n",
            "704/704 [==============================] - 0s 211us/step - loss: 0.1969 - acc: 0.9077 - val_loss: 3.2366 - val_acc: 0.5312\n",
            "Epoch 33/40\n",
            "704/704 [==============================] - 0s 224us/step - loss: 0.2047 - acc: 0.8935 - val_loss: 2.7046 - val_acc: 0.7585\n",
            "Epoch 34/40\n",
            "704/704 [==============================] - 0s 219us/step - loss: 0.2134 - acc: 0.9006 - val_loss: 2.8432 - val_acc: 0.7017\n",
            "Epoch 35/40\n",
            "704/704 [==============================] - 0s 218us/step - loss: 0.2025 - acc: 0.9020 - val_loss: 2.9822 - val_acc: 0.5966\n",
            "Epoch 36/40\n",
            "704/704 [==============================] - 0s 219us/step - loss: 0.2057 - acc: 0.8977 - val_loss: 2.9839 - val_acc: 0.6080\n",
            "Epoch 37/40\n",
            "704/704 [==============================] - 0s 224us/step - loss: 0.2107 - acc: 0.8963 - val_loss: 2.6358 - val_acc: 0.7841\n",
            "Epoch 38/40\n",
            "704/704 [==============================] - 0s 219us/step - loss: 0.2124 - acc: 0.9034 - val_loss: 2.7238 - val_acc: 0.7585\n",
            "Epoch 39/40\n",
            "704/704 [==============================] - 0s 224us/step - loss: 0.1864 - acc: 0.8977 - val_loss: 2.8999 - val_acc: 0.6506\n",
            "Epoch 40/40\n",
            "704/704 [==============================] - 0s 217us/step - loss: 0.2102 - acc: 0.9034 - val_loss: 2.8819 - val_acc: 0.6733\n"
          ],
          "name": "stdout"
        },
        {
          "output_type": "execute_result",
          "data": {
            "text/plain": [
              "<keras.callbacks.History at 0x7fe6de408a20>"
            ]
          },
          "metadata": {
            "tags": []
          },
          "execution_count": 36
        }
      ]
    },
    {
      "cell_type": "markdown",
      "metadata": {
        "id": "MzogqH84OlCS"
      },
      "source": [
        "The training process of this small neural network is very fast : ~2s per epoch"
      ]
    },
    {
      "cell_type": "code",
      "metadata": {
        "id": "172lUR_AOlCU"
      },
      "source": [
        "model_top.save_weights('models/bottleneck_40_epochs.h5')"
      ],
      "execution_count": null,
      "outputs": []
    },
    {
      "cell_type": "markdown",
      "metadata": {
        "id": "gz3bs4jCOlCY"
      },
      "source": [
        "### Bottleneck model evaluation"
      ]
    },
    {
      "cell_type": "code",
      "metadata": {
        "id": "f0cVQSGhOlCZ"
      },
      "source": [
        "#model_top.load_weights('models/with-bottleneck/1000-samples--100-epochs.h5')\n",
        "#model_top.load_weights('/notebook/Data1/Code/keras-workshop/models/with-bottleneck/1000-samples--100-epochs.h5')"
      ],
      "execution_count": null,
      "outputs": []
    },
    {
      "cell_type": "markdown",
      "metadata": {
        "id": "IzdSSrvxOlCc"
      },
      "source": [
        "Loss and accuracy :"
      ]
    },
    {
      "cell_type": "code",
      "metadata": {
        "id": "IWEVPqjVOlCe",
        "colab": {
          "base_uri": "https://localhost:8080/",
          "height": 51
        },
        "outputId": "d6f2e4bb-7b49-47cb-bc9c-462bb2d5fcdc"
      },
      "source": [
        "model_top.evaluate(validation_data, validation_labels)"
      ],
      "execution_count": null,
      "outputs": [
        {
          "output_type": "stream",
          "text": [
            "352/352 [==============================] - 0s 123us/step\n"
          ],
          "name": "stdout"
        },
        {
          "output_type": "execute_result",
          "data": {
            "text/plain": [
              "[2.8819328944452782, 0.6732954545454546]"
            ]
          },
          "metadata": {
            "tags": []
          },
          "execution_count": 37
        }
      ]
    },
    {
      "cell_type": "markdown",
      "metadata": {
        "id": "hI8bLqb3OlCh"
      },
      "source": [
        "Evolution of accuracy on training (blue) and validation (green) sets for 1 to 32 epochs :"
      ]
    },
    {
      "cell_type": "markdown",
      "metadata": {
        "id": "atZC6sSrOlCi"
      },
      "source": [
        "![Accuracy evolution](pictures/scores_with_bottleneck.png)"
      ]
    },
    {
      "cell_type": "markdown",
      "metadata": {
        "id": "HpH3VCZvOlCj"
      },
      "source": [
        "**We reached a 90% accuracy on the validation after ~1m of training (~20 epochs) and 8% of the samples originally available on the Kaggle competition !**"
      ]
    },
    {
      "cell_type": "code",
      "metadata": {
        "id": "nBDcr1egOlCk"
      },
      "source": [
        "##Fine-tuning the top layers of a a pre-trained network"
      ],
      "execution_count": null,
      "outputs": []
    },
    {
      "cell_type": "markdown",
      "metadata": {
        "collapsed": true,
        "id": "HMdyIR5zOlCp"
      },
      "source": [
        "Start by instantiating the VGG base and loading its weights."
      ]
    },
    {
      "cell_type": "code",
      "metadata": {
        "id": "yw4PORulOlCq"
      },
      "source": [
        "model_vgg = Sequential()\n",
        "model_vgg.add(ZeroPadding2D((1, 1), input_shape=(img_width, img_height,3)))\n",
        "model_vgg.add(Convolution2D(64, (3, 3), activation='relu', name='conv1_1'))\n",
        "model_vgg.add(ZeroPadding2D((1, 1)))\n",
        "model_vgg.add(Convolution2D(64, (3, 3), activation='relu', name='conv1_2'))\n",
        "model_vgg.add(MaxPooling2D((2, 2), strides=(2, 2)))\n",
        "\n",
        "model_vgg.add(ZeroPadding2D((1, 1)))\n",
        "model_vgg.add(Convolution2D(128, (3, 3), activation='relu', name='conv2_1'))\n",
        "model_vgg.add(ZeroPadding2D((1, 1)))\n",
        "model_vgg.add(Convolution2D(128, (3, 3), activation='relu', name='conv2_2'))\n",
        "model_vgg.add(MaxPooling2D((2, 2), strides=(2, 2)))\n",
        "\n",
        "model_vgg.add(ZeroPadding2D((1, 1)))\n",
        "model_vgg.add(Convolution2D(256, (3, 3), activation='relu', name='conv3_1'))\n",
        "model_vgg.add(ZeroPadding2D((1, 1)))\n",
        "model_vgg.add(Convolution2D(256, (3, 3), activation='relu', name='conv3_2'))\n",
        "model_vgg.add(ZeroPadding2D((1, 1)))\n",
        "model_vgg.add(Convolution2D(256, (3, 3), activation='relu', name='conv3_3'))\n",
        "model_vgg.add(MaxPooling2D((2, 2), strides=(2, 2)))\n",
        "\n",
        "model_vgg.add(ZeroPadding2D((1, 1)))\n",
        "model_vgg.add(Convolution2D(512, (3, 3), activation='relu', name='conv4_1'))\n",
        "model_vgg.add(ZeroPadding2D((1, 1)))\n",
        "model_vgg.add(Convolution2D(512, (3, 3), activation='relu', name='conv4_2'))\n",
        "model_vgg.add(ZeroPadding2D((1, 1)))\n",
        "model_vgg.add(Convolution2D(512, (3, 3), activation='relu', name='conv4_3'))\n",
        "model_vgg.add(MaxPooling2D((2, 2), strides=(2, 2)))\n",
        "\n",
        "model_vgg.add(ZeroPadding2D((1, 1)))\n",
        "model_vgg.add(Convolution2D(512, (3, 3), activation='relu', name='conv5_1'))\n",
        "model_vgg.add(ZeroPadding2D((1, 1)))\n",
        "model_vgg.add(Convolution2D(512, (3, 3), activation='relu', name='conv5_2'))\n",
        "model_vgg.add(ZeroPadding2D((1, 1)))\n",
        "model_vgg.add(Convolution2D(512, (3, 3), activation='relu', name='conv5_3'))\n",
        "model_vgg.add(MaxPooling2D((2, 2), strides=(2, 2)))"
      ],
      "execution_count": null,
      "outputs": []
    },
    {
      "cell_type": "code",
      "metadata": {
        "id": "JjyZyejYOlC9"
      },
      "source": [
        "import h5py\n",
        "f = h5py.File(os.path.join(path,'models/vgg16_weights.h5'))\n",
        "for k in range(f.attrs['nb_layers']):\n",
        "    if k >= len(model_vgg.layers) - 1:\n",
        "        # we don't look at the last two layers in the savefile (fully-connected and activation)\n",
        "        break\n",
        "    g = f['layer_{}'.format(k)]\n",
        "    weights = [g['param_{}'.format(p)] for p in range(g.attrs['nb_params'])]\n",
        "    layer = model_vgg.layers[k]\n",
        "\n",
        "    if layer.__class__.__name__ in ['Convolution1D', 'Convolution2D', 'Convolution3D', 'AtrousConvolution2D']:\n",
        "        weights[0] = np.transpose(weights[0], (2, 3, 1, 0))\n",
        "    elif layer.__class__.__name__ in ['Conv1D', 'Conv2D', 'Conv3D', 'AtrousConvolution2D']:\n",
        "        weights[0] = np.transpose(weights[0], (2, 3, 1, 0))\n",
        "    layer.set_weights(weights)\n",
        "\n",
        "f.close()"
      ],
      "execution_count": null,
      "outputs": []
    },
    {
      "cell_type": "markdown",
      "metadata": {
        "id": "B6pf38-WOlDA"
      },
      "source": [
        "Build a classifier model to put on top of the convolutional model. For the fine tuning, we start with a fully trained-classifer. We will use the weights from the earlier model. And then we will add this model on top of the convolutional base."
      ]
    },
    {
      "cell_type": "code",
      "metadata": {
        "id": "8hId6eC8OlDB"
      },
      "source": [
        "top_model = Sequential()\n",
        "top_model.add(Flatten(input_shape=model_vgg.output_shape[1:]))\n",
        "top_model.add(Dense(256, activation='relu'))\n",
        "top_model.add(Dropout(0.5))\n",
        "top_model.add(Dense(1, activation='sigmoid'))\n",
        "\n",
        "top_model.load_weights(os.path.join(path,'models/bottleneck_40_epochs.h5'))\n",
        "\n",
        "model_vgg.add(top_model)"
      ],
      "execution_count": null,
      "outputs": []
    },
    {
      "cell_type": "markdown",
      "metadata": {
        "id": "fyC-APD_OlDH"
      },
      "source": [
        "For fine turning, we only want to train a few layers.  This line will set the first 25 layers (up to the conv block) to non-trainable."
      ]
    },
    {
      "cell_type": "code",
      "metadata": {
        "id": "vyeI3GJCOlDJ",
        "colab": {
          "base_uri": "https://localhost:8080/",
          "height": 34
        },
        "outputId": "502b1502-8c87-4b10-fc86-b4232b4f5f3b"
      },
      "source": [
        "for layer in model_vgg.layers[:25]:\n",
        "    layer.trainable = False\n",
        "print(len(model_vgg.layers))"
      ],
      "execution_count": null,
      "outputs": [
        {
          "output_type": "stream",
          "text": [
            "32\n"
          ],
          "name": "stdout"
        }
      ]
    },
    {
      "cell_type": "code",
      "metadata": {
        "id": "IuOR-XN9OlDO"
      },
      "source": [
        "# compile the model with a SGD/momentum optimizer\n",
        "# and a very slow learning rate.\n",
        "model_vgg.compile(loss='binary_crossentropy',\n",
        "              optimizer=optimizers.SGD(lr=1e-4, momentum=0.9),\n",
        "              metrics=['accuracy'])"
      ],
      "execution_count": null,
      "outputs": []
    },
    {
      "cell_type": "code",
      "metadata": {
        "id": "NklNQVfMOlDU",
        "colab": {
          "base_uri": "https://localhost:8080/",
          "height": 85
        },
        "outputId": "92d8347c-2e65-44c3-da1f-38b57d9a7ffb"
      },
      "source": [
        "# prepare data augmentation configuration  . . . do we need this?\n",
        "train_datagen = ImageDataGenerator(\n",
        "        rescale=1./255,\n",
        "        shear_range=0.2,\n",
        "        zoom_range=0.2,\n",
        "        horizontal_flip=True)\n",
        "\n",
        "test_datagen = ImageDataGenerator(rescale=1./255)\n",
        "\n",
        "train_generator = train_datagen.flow_from_directory(\n",
        "        train_data_dir,\n",
        "        target_size=(img_height, img_width),\n",
        "        batch_size=32,\n",
        "        class_mode='binary')\n",
        "\n",
        "validation_generator = test_datagen.flow_from_directory(\n",
        "        validation_data_dir,\n",
        "        target_size=(img_height, img_width),\n",
        "        batch_size=32,\n",
        "        class_mode='binary')\n",
        "\n",
        "_,(train_c0,train_c1)=np.unique(train_generator.classes, return_counts=True)\n",
        "nb_train_samples=train_c0+train_c1\n",
        "print(nb_train_samples)\n",
        "_,(val_c0,val_c1)=np.unique(validation_generator.classes, return_counts=True)\n",
        "nb_validation_samples=val_c0+val_c1\n",
        "print(nb_validation_samples)"
      ],
      "execution_count": null,
      "outputs": [
        {
          "output_type": "stream",
          "text": [
            "Found 704 images belonging to 2 classes.\n",
            "Found 352 images belonging to 2 classes.\n",
            "704\n",
            "352\n"
          ],
          "name": "stdout"
        }
      ]
    },
    {
      "cell_type": "code",
      "metadata": {
        "id": "5NByV0u3VxCO",
        "colab": {
          "base_uri": "https://localhost:8080/",
          "height": 34
        },
        "outputId": "96eb8c9d-4112-4f5e-fbc8-98187e140d75"
      },
      "source": [
        "import keras\n",
        "print(keras.__version__)"
      ],
      "execution_count": null,
      "outputs": [
        {
          "output_type": "stream",
          "text": [
            "2.2.5\n"
          ],
          "name": "stdout"
        }
      ]
    },
    {
      "cell_type": "code",
      "metadata": {
        "id": "G-lgCbSSOlEA",
        "colab": {
          "base_uri": "https://localhost:8080/",
          "height": 802
        },
        "outputId": "f41ef531-e476-4e4f-f05c-48132de0c728"
      },
      "source": [
        "# fine-tune the model\n",
        "nb_epoch=20\n",
        "model_vgg.fit_generator(\n",
        "        train_generator,\n",
        "        samples_per_epoch=nb_train_samples,\n",
        "        epochs=nb_epoch,\n",
        "        validation_data=validation_generator,\n",
        "        nb_val_samples=nb_validation_samples)"
      ],
      "execution_count": null,
      "outputs": [
        {
          "output_type": "stream",
          "text": [
            "/usr/local/lib/python3.6/dist-packages/ipykernel_launcher.py:7: UserWarning: The semantics of the Keras 2 argument `steps_per_epoch` is not the same as the Keras 1 argument `samples_per_epoch`. `steps_per_epoch` is the number of batches to draw from the generator at each epoch. Basically steps_per_epoch = samples_per_epoch/batch_size. Similarly `nb_val_samples`->`validation_steps` and `val_samples`->`steps` arguments have changed. Update your method calls accordingly.\n",
            "  import sys\n",
            "/usr/local/lib/python3.6/dist-packages/ipykernel_launcher.py:7: UserWarning: Update your `fit_generator` call to the Keras 2 API: `fit_generator(<keras_pre..., epochs=20, validation_data=<keras_pre..., steps_per_epoch=22, validation_steps=352)`\n",
            "  import sys\n"
          ],
          "name": "stderr"
        },
        {
          "output_type": "stream",
          "text": [
            "Epoch 1/20\n",
            "22/22 [==============================] - 175s 8s/step - loss: 3.6589 - acc: 0.7557 - val_loss: 2.4910 - val_acc: 0.8438\n",
            "Epoch 2/20\n",
            "22/22 [==============================] - 32s 1s/step - loss: 3.5553 - acc: 0.7770 - val_loss: 2.4910 - val_acc: 0.8438\n",
            "Epoch 3/20\n",
            "22/22 [==============================] - 32s 1s/step - loss: 3.5553 - acc: 0.7770 - val_loss: 2.4910 - val_acc: 0.8438\n",
            "Epoch 4/20\n",
            "22/22 [==============================] - 32s 1s/step - loss: 3.5553 - acc: 0.7770 - val_loss: 2.4910 - val_acc: 0.8438\n",
            "Epoch 5/20\n",
            "22/22 [==============================] - 32s 1s/step - loss: 3.5553 - acc: 0.7770 - val_loss: 2.4910 - val_acc: 0.8438\n",
            "Epoch 6/20\n",
            "22/22 [==============================] - 32s 1s/step - loss: 3.5553 - acc: 0.7770 - val_loss: 2.4910 - val_acc: 0.8438\n",
            "Epoch 7/20\n",
            "22/22 [==============================] - 32s 1s/step - loss: 3.5553 - acc: 0.7770 - val_loss: 2.4910 - val_acc: 0.8438\n",
            "Epoch 8/20\n",
            "22/22 [==============================] - 32s 1s/step - loss: 3.5553 - acc: 0.7770 - val_loss: 2.4910 - val_acc: 0.8438\n",
            "Epoch 9/20\n",
            "22/22 [==============================] - 32s 1s/step - loss: 3.5553 - acc: 0.7770 - val_loss: 2.4910 - val_acc: 0.8438\n",
            "Epoch 10/20\n",
            "22/22 [==============================] - 32s 1s/step - loss: 3.5553 - acc: 0.7770 - val_loss: 2.4910 - val_acc: 0.8438\n",
            "Epoch 11/20\n",
            "22/22 [==============================] - 32s 1s/step - loss: 3.5553 - acc: 0.7770 - val_loss: 2.4910 - val_acc: 0.8438\n",
            "Epoch 12/20\n",
            "22/22 [==============================] - 32s 1s/step - loss: 3.5553 - acc: 0.7770 - val_loss: 2.4910 - val_acc: 0.8438\n",
            "Epoch 13/20\n",
            "22/22 [==============================] - 32s 1s/step - loss: 3.5553 - acc: 0.7770 - val_loss: 2.4910 - val_acc: 0.8438\n",
            "Epoch 14/20\n",
            "22/22 [==============================] - 32s 1s/step - loss: 3.5553 - acc: 0.7770 - val_loss: 2.4910 - val_acc: 0.8438\n",
            "Epoch 15/20\n",
            "22/22 [==============================] - 32s 1s/step - loss: 3.5553 - acc: 0.7770 - val_loss: 2.4910 - val_acc: 0.8438\n",
            "Epoch 16/20\n",
            "22/22 [==============================] - 32s 1s/step - loss: 3.5553 - acc: 0.7770 - val_loss: 2.4910 - val_acc: 0.8438\n",
            "Epoch 17/20\n",
            "22/22 [==============================] - 32s 1s/step - loss: 3.5553 - acc: 0.7770 - val_loss: 2.4910 - val_acc: 0.8438\n",
            "Epoch 18/20\n",
            "22/22 [==============================] - 32s 1s/step - loss: 3.5553 - acc: 0.7770 - val_loss: 2.4910 - val_acc: 0.8438\n",
            "Epoch 19/20\n",
            "22/22 [==============================] - 32s 1s/step - loss: 3.5553 - acc: 0.7770 - val_loss: 2.4910 - val_acc: 0.8438\n",
            "Epoch 20/20\n",
            "22/22 [==============================] - 32s 1s/step - loss: 3.5553 - acc: 0.7770 - val_loss: 2.4910 - val_acc: 0.8438\n"
          ],
          "name": "stdout"
        },
        {
          "output_type": "execute_result",
          "data": {
            "text/plain": [
              "<keras.callbacks.History at 0x7fe6ddd25f60>"
            ]
          },
          "metadata": {
            "tags": []
          },
          "execution_count": 56
        }
      ]
    },
    {
      "cell_type": "code",
      "metadata": {
        "id": "47xjVxPyOlEF"
      },
      "source": [
        "model_vgg.save_weights(os.path.join(path,'models/finetuning_20epochs_vgg.h5'))"
      ],
      "execution_count": null,
      "outputs": []
    },
    {
      "cell_type": "code",
      "metadata": {
        "id": "K6K89j7COlEK"
      },
      "source": [
        "model_vgg.load_weights('models/finetuning_20epochs_vgg.h5')"
      ],
      "execution_count": null,
      "outputs": []
    },
    {
      "cell_type": "markdown",
      "metadata": {
        "id": "-bTPhNeXOlEN"
      },
      "source": [
        "### Evaluating on validation set"
      ]
    },
    {
      "cell_type": "markdown",
      "metadata": {
        "id": "g4jwJ_QZOlEO"
      },
      "source": [
        "Computing loss and accuracy :"
      ]
    },
    {
      "cell_type": "code",
      "metadata": {
        "id": "4-zwJEO0OlEO",
        "colab": {
          "base_uri": "https://localhost:8080/",
          "height": 34
        },
        "outputId": "cc2f9d60-65f0-4f7d-8f01-48962e1f0396"
      },
      "source": [
        "model_vgg.evaluate_generator(validation_generator, nb_validation_samples)"
      ],
      "execution_count": null,
      "outputs": [
        {
          "output_type": "execute_result",
          "data": {
            "text/plain": [
              "[2.4909977467561313, 0.84375]"
            ]
          },
          "metadata": {
            "tags": []
          },
          "execution_count": 59
        }
      ]
    },
    {
      "cell_type": "code",
      "metadata": {
        "id": "9dJ3yQddOlES",
        "colab": {
          "base_uri": "https://localhost:8080/",
          "height": 34
        },
        "outputId": "ec365125-c716-4ac5-f5ba-cee8e1636bdb"
      },
      "source": [
        "model.evaluate_generator(validation_generator, nb_validation_samples)"
      ],
      "execution_count": null,
      "outputs": [
        {
          "output_type": "execute_result",
          "data": {
            "text/plain": [
              "[0.40578888657248835, 0.84375]"
            ]
          },
          "metadata": {
            "tags": []
          },
          "execution_count": 60
        }
      ]
    },
    {
      "cell_type": "code",
      "metadata": {
        "id": "Q9NyguyfOlEV",
        "colab": {
          "base_uri": "https://localhost:8080/",
          "height": 51
        },
        "outputId": "aa30566b-bf67-41f2-d615-dd216a9d16b4"
      },
      "source": [
        "model_top.evaluate(validation_data, validation_labels)"
      ],
      "execution_count": null,
      "outputs": [
        {
          "output_type": "stream",
          "text": [
            "352/352 [==============================] - 0s 96us/step\n"
          ],
          "name": "stdout"
        },
        {
          "output_type": "execute_result",
          "data": {
            "text/plain": [
              "[2.8819328944452782, 0.6732954545454546]"
            ]
          },
          "metadata": {
            "tags": []
          },
          "execution_count": 61
        }
      ]
    },
    {
      "cell_type": "code",
      "metadata": {
        "id": "JwpnezQxOlEZ"
      },
      "source": [
        ""
      ],
      "execution_count": null,
      "outputs": []
    }
  ]
}