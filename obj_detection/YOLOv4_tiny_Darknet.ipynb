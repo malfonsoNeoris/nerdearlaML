{
 "cells": [
  {
   "cell_type": "markdown",
   "metadata": {
    "id": "kWOiKj37l4wW"
   },
   "source": [
    "# Set up Custom Dataset for YOLOv4"
   ]
  },
  {
   "cell_type": "code",
   "execution_count": null,
   "metadata": {},
   "outputs": [],
   "source": [
    "DARKNET = r\"/mnt/data/cemex/darknet\"\n",
    "DATA = r\"/mnt/data/cemex/cx-ir-data/truck_detection/dataset\"\n",
    "CONFIG = r\"/mnt/data/cemex/ML\\ Training\\ scripts/truck_detector/config\""
   ]
  },
  {
   "cell_type": "code",
   "execution_count": null,
   "metadata": {
    "id": "13PHE5Rntdvi"
   },
   "outputs": [],
   "source": [
    "# copy annotations\n",
    "yolo_config_name = 'y4t-truckd'\n",
    "num_classes = 1\n",
    "width = 416\n",
    "height = 416\n",
    "yolo_base_type = 'tiny' #tiny\n",
    "# yolo_base_type = None # normal"
   ]
  },
  {
   "cell_type": "code",
   "execution_count": null,
   "metadata": {},
   "outputs": [],
   "source": [
    "#Clean darknet folder\n",
    "!cd {DARKNET} && rm data/obj/*.*"
   ]
  },
  {
   "cell_type": "code",
   "execution_count": null,
   "metadata": {},
   "outputs": [],
   "source": []
  },
  {
   "cell_type": "code",
   "execution_count": null,
   "metadata": {
    "colab": {
     "base_uri": "https://localhost:8080/"
    },
    "id": "KiCILEbs1NII",
    "outputId": "30983aeb-65f5-4fa3-b95f-17aa966002e0"
   },
   "outputs": [],
   "source": [
    "#Set up training file directories for custom dataset\n",
    "\n",
    "%cp {CONFIG}/_darknet.labels {DARKNET}/data/obj.names\n",
    "#%mkdir data/obj\n",
    "#copy image and labels\n",
    "%cp {DATA}/*.jpg {DARKNET}/data/obj/\n",
    "# %cp ~/pmptests/data/val/*.jpg ~/pmptests/darknet/data/obj/\n",
    "\n",
    "%cp {DATA}/*.txt {DARKNET}/data/obj/\n",
    "# %cp ~/pmptests/data/val/*.txt ~/pmptests/darknet/data/obj/"
   ]
  },
  {
   "cell_type": "markdown",
   "metadata": {
    "tags": []
   },
   "source": [
    "## Create data with training info\n"
   ]
  },
  {
   "cell_type": "code",
   "execution_count": null,
   "metadata": {},
   "outputs": [],
   "source": []
  },
  {
   "cell_type": "code",
   "execution_count": null,
   "metadata": {},
   "outputs": [],
   "source": [
    "%cd {DARKNET}\n",
    "with open('data/obj.data', 'w') as out:\n",
    "  out.write('classes = 1\\n')\n",
    "  out.write('train = data/train.txt\\n')\n",
    "  out.write('valid = data/valid.txt\\n')\n",
    "  out.write('names = data/obj.names\\n')\n",
    "  out.write('backup = backup/')\n",
    "\n",
    "import os\n",
    "from tqdm.auto import tqdm\n",
    "\n",
    "split = .9\n",
    "if False:\n",
    "    train_files = [f for f in os.listdir(f'{data_folder}/train') if f.endswith('jpg')]\n",
    "    valid_files = [f for f in os.listdir(f'{data_folder}/val') if f.endswith('jpg')]\n",
    "else:\n",
    "    import random\n",
    "    files  = [ffile for ffile in os.listdir(DATA) if \".txt\" not in ffile]\n",
    "    random.shuffle(files)\n",
    "    N=len(files)\n",
    "    train_files = files[:int(N*split)]\n",
    "    valid_files = files[int(N*split):]\n",
    "    \n",
    "    #write train file (just the image list)\n",
    "    with open('data/train.txt', 'w') as out:\n",
    "      for img in train_files:\n",
    "        out.write('data/obj/' + img + '\\n')\n",
    "\n",
    "    #write the valid file (just the image list)\n",
    "    with open('data/valid.txt', 'w') as out:\n",
    "      for img in valid_files:\n",
    "        out.write('data/obj/' + img + '\\n')\n"
   ]
  },
  {
   "cell_type": "code",
   "execution_count": null,
   "metadata": {
    "id": "Q4UILZ18KblD"
   },
   "outputs": [],
   "source": []
  },
  {
   "cell_type": "markdown",
   "metadata": {
    "id": "5HtRqO3QvjkP"
   },
   "source": [
    "# Write Custom Training Config for YOLOv4"
   ]
  },
  {
   "cell_type": "code",
   "execution_count": null,
   "metadata": {
    "colab": {
     "base_uri": "https://localhost:8080/"
    },
    "id": "0myDfoD1LJrr",
    "outputId": "265634e8-954b-47db-d9cf-53dcb222249a"
   },
   "outputs": [],
   "source": [
    "pwd"
   ]
  },
  {
   "cell_type": "code",
   "execution_count": null,
   "metadata": {
    "id": "9Ga-P3ohuwi-",
    "tags": []
   },
   "outputs": [],
   "source": [
    "#Check anchors\n",
    "#!./darknet detector train data/obj.data cfg/custom-yolov4-tiny-detector.cfg yolov4-tiny.conv.29 -dont_show -map\n",
    "!./darknet detector calc_anchors data/obj.data -num_of_clusters 6 -width {width} -height {height} -show\n",
    "\n"
   ]
  },
  {
   "cell_type": "code",
   "execution_count": null,
   "metadata": {},
   "outputs": [],
   "source": []
  },
  {
   "cell_type": "code",
   "execution_count": null,
   "metadata": {
    "colab": {
     "base_uri": "https://localhost:8080/"
    },
    "id": "U_WJcqHhpeVr",
    "outputId": "01ba4914-1849-410b-f81d-ddef5a8342c1"
   },
   "outputs": [],
   "source": [
    "#we build config dynamically based on number of classes\n",
    "#we build iteratively from base config files. This is the same file shape as cfg/yolo-obj.cfg\n",
    "%cd {DARKNET}\n",
    "def file_len(fname):\n",
    "  with open(fname) as f:\n",
    "    for i, l in enumerate(f):\n",
    "      pass\n",
    "  return i + 1\n",
    "\n",
    "num_classes = file_len('data/obj.names')\n",
    "max_batches = num_classes*8000\n",
    "steps1 = .8 * max_batches\n",
    "steps2 = .9 * max_batches\n",
    "steps_str = str(steps1)+','+str(steps2)\n",
    "num_filters = (num_classes + 5) * 3\n",
    "\n",
    "\n",
    "print(\"writing config for a custom YOLOv4 detector detecting number of classes: \" + str(num_classes))\n",
    "#Instructions from the darknet repo\n",
    "#change line max_batches to (classes*2000 but not less than number of training images, and not less than 6000), f.e. max_batches=6000 if you train for 3 classes\n",
    "#change line steps to 80% and 90% of max_batches, f.e. steps=4800,5400\n",
    "if os.path.exists(f'./cfg/{yolo_config_name}.cfg'): os.remove(f'./cfg/{yolo_config_name}.cfg')\n",
    "\n",
    "\n",
    "#customize iPython writefile so we can write variables\n",
    "from IPython.core.magic import register_line_cell_magic\n",
    "\n",
    "@register_line_cell_magic\n",
    "def writetemplate(line, cell):\n",
    "    with open(line, 'w') as f:\n",
    "        f.write(cell.format(**globals()))"
   ]
  },
  {
   "cell_type": "code",
   "execution_count": null,
   "metadata": {
    "id": "03VuD4NHnxFx"
   },
   "outputs": [],
   "source": [
    "%%writetemplate ./cfg/{yolo_config_name}.cfg\n",
    "[net]\n",
    "# Testing\n",
    "#batch=1\n",
    "#subdivisions=1\n",
    "# Training\n",
    "batch=32\n",
    "subdivisions=2\n",
    "width={width}\n",
    "height={height}\n",
    "channels=3\n",
    "momentum=0.9\n",
    "decay=0.0005\n",
    "angle=30\n",
    "flip=0\n",
    "saturation = 1.5\n",
    "exposure = 1.5\n",
    "hue=.1\n",
    "blur=1\n",
    "aspect=.75\n",
    "jitter=0.3\n",
    "gaussian_noise=1\n",
    "scale_x_y = 1.05\n",
    "resize=1.5\n",
    "\n",
    "\n",
    "learning_rate=0.00261\n",
    "burn_in=1000\n",
    "max_batches = {max_batches}\n",
    "policy=steps\n",
    "steps={steps_str}\n",
    "scales=.1,.1\n",
    "\n",
    "[convolutional]\n",
    "batch_normalize=1\n",
    "filters=32\n",
    "size=3\n",
    "stride=2\n",
    "pad=1\n",
    "activation=leaky\n",
    "\n",
    "[convolutional]\n",
    "batch_normalize=1\n",
    "filters=64\n",
    "size=3\n",
    "stride=2\n",
    "pad=1\n",
    "activation=leaky\n",
    "\n",
    "[convolutional]\n",
    "batch_normalize=1\n",
    "filters=64\n",
    "size=3\n",
    "stride=1\n",
    "pad=1\n",
    "activation=leaky\n",
    "\n",
    "[route]\n",
    "layers=-1\n",
    "groups=2\n",
    "group_id=1\n",
    "\n",
    "[convolutional]\n",
    "batch_normalize=1\n",
    "filters=32\n",
    "size=3\n",
    "stride=1\n",
    "pad=1\n",
    "activation=leaky\n",
    "\n",
    "[convolutional]\n",
    "batch_normalize=1\n",
    "filters=32\n",
    "size=3\n",
    "stride=1\n",
    "pad=1\n",
    "activation=leaky\n",
    "\n",
    "[route]\n",
    "layers = -1,-2\n",
    "\n",
    "[convolutional]\n",
    "batch_normalize=1\n",
    "filters=64\n",
    "size=1\n",
    "stride=1\n",
    "pad=1\n",
    "activation=leaky\n",
    "\n",
    "[route]\n",
    "layers = -6,-1\n",
    "\n",
    "[maxpool]\n",
    "size=2\n",
    "stride=2\n",
    "\n",
    "[convolutional]\n",
    "batch_normalize=1\n",
    "filters=128\n",
    "size=3\n",
    "stride=1\n",
    "pad=1\n",
    "activation=leaky\n",
    "\n",
    "[route]\n",
    "layers=-1\n",
    "groups=2\n",
    "group_id=1\n",
    "\n",
    "[convolutional]\n",
    "batch_normalize=1\n",
    "filters=64\n",
    "size=3\n",
    "stride=1\n",
    "pad=1\n",
    "activation=leaky\n",
    "\n",
    "[convolutional]\n",
    "batch_normalize=1\n",
    "filters=64\n",
    "size=3\n",
    "stride=1\n",
    "pad=1\n",
    "activation=leaky\n",
    "\n",
    "[route]\n",
    "layers = -1,-2\n",
    "\n",
    "[convolutional]\n",
    "batch_normalize=1\n",
    "filters=128\n",
    "size=1\n",
    "stride=1\n",
    "pad=1\n",
    "activation=leaky\n",
    "\n",
    "[route]\n",
    "layers = -6,-1\n",
    "\n",
    "[maxpool]\n",
    "size=2\n",
    "stride=2\n",
    "\n",
    "[convolutional]\n",
    "batch_normalize=1\n",
    "filters=256\n",
    "size=3\n",
    "stride=1\n",
    "pad=1\n",
    "activation=leaky\n",
    "\n",
    "[route]\n",
    "layers=-1\n",
    "groups=2\n",
    "group_id=1\n",
    "\n",
    "[convolutional]\n",
    "batch_normalize=1\n",
    "filters=128\n",
    "size=3\n",
    "stride=1\n",
    "pad=1\n",
    "activation=leaky\n",
    "\n",
    "[convolutional]\n",
    "batch_normalize=1\n",
    "filters=128\n",
    "size=3\n",
    "stride=1\n",
    "pad=1\n",
    "activation=leaky\n",
    "\n",
    "[route]\n",
    "layers = -1,-2\n",
    "\n",
    "[convolutional]\n",
    "batch_normalize=1\n",
    "filters=256\n",
    "size=1\n",
    "stride=1\n",
    "pad=1\n",
    "activation=leaky\n",
    "\n",
    "[route]\n",
    "layers = -6,-1\n",
    "\n",
    "[maxpool]\n",
    "size=2\n",
    "stride=2\n",
    "\n",
    "[convolutional]\n",
    "batch_normalize=1\n",
    "filters=512\n",
    "size=3\n",
    "stride=1\n",
    "pad=1\n",
    "activation=leaky\n",
    "\n",
    "##################################\n",
    "\n",
    "[convolutional]\n",
    "batch_normalize=1\n",
    "filters=256\n",
    "size=1\n",
    "stride=1\n",
    "pad=1\n",
    "activation=leaky\n",
    "\n",
    "[convolutional]\n",
    "batch_normalize=1\n",
    "filters=512\n",
    "size=3\n",
    "stride=1\n",
    "pad=1\n",
    "activation=leaky\n",
    "\n",
    "[convolutional]\n",
    "size=1\n",
    "stride=1\n",
    "pad=1\n",
    "filters={num_filters}\n",
    "activation=linear\n",
    "\n",
    "\n",
    "\n",
    "[yolo]\n",
    "mask = 3,4,5\n",
    "anchors = 10,14,  23,27,  37,58,  81,82,  135,169,  344,319\n",
    "#anchors =  13,38,  21,65,  24,102,  34,85,  38,116,  54,123\n",
    "#anchors =  27, 70,  30, 66,  34, 71,  35, 70,  36, 68,  38, 66\n",
    "classes={num_classes}\n",
    "num=6\n",
    "jitter=.3\n",
    "scale_x_y = 1.05\n",
    "cls_normalizer=1.0\n",
    "iou_normalizer=0.07\n",
    "iou_loss=ciou\n",
    "ignore_thresh = .7\n",
    "truth_thresh = 1\n",
    "random=0\n",
    "nms_kind=greedynms\n",
    "beta_nms=0.6\n",
    "\n",
    "[route]\n",
    "layers = -4\n",
    "\n",
    "[convolutional]\n",
    "batch_normalize=1\n",
    "filters=128\n",
    "size=1\n",
    "stride=1\n",
    "pad=1\n",
    "activation=leaky\n",
    "\n",
    "[upsample]\n",
    "stride=2\n",
    "\n",
    "[route]\n",
    "layers = -1, 23\n",
    "\n",
    "[convolutional]\n",
    "batch_normalize=1\n",
    "filters=256\n",
    "size=3\n",
    "stride=1\n",
    "pad=1\n",
    "activation=leaky\n",
    "\n",
    "[convolutional]\n",
    "size=1\n",
    "stride=1\n",
    "pad=1\n",
    "filters={num_filters}\n",
    "activation=linear\n",
    "\n",
    "[yolo]\n",
    "mask = 1,2,3\n",
    "anchors = 10,14,  23,27,  37,58,  81,82,  135,169,  344,319\n",
    "classes={num_classes}\n",
    "num=6\n",
    "jitter=.3\n",
    "scale_x_y = 1.05\n",
    "cls_normalizer=1.0\n",
    "iou_normalizer=0.07\n",
    "iou_loss=ciou\n",
    "ignore_thresh = .7\n",
    "truth_thresh = 1\n",
    "random=0\n",
    "nms_kind=greedynms\n",
    "beta_nms=0.6"
   ]
  },
  {
   "cell_type": "code",
   "execution_count": null,
   "metadata": {
    "id": "u2LAciMh4Cut"
   },
   "outputs": [],
   "source": [
    "#here is the file that was just written. \n",
    "#you may consider adjusting certain things\n",
    "\n",
    "#like the number of subdivisions 64 runs faster but Colab GPU may not be big enough\n",
    "#if Colab GPU memory is too small, you will need to adjust subdivisions to 16\n",
    "%cat cfg/{yolo_config_name}.cfg"
   ]
  },
  {
   "cell_type": "markdown",
   "metadata": {
    "id": "vWrG9EGamSpH"
   },
   "source": [
    "# Train Custom YOLOv4 Detector"
   ]
  },
  {
   "cell_type": "code",
   "execution_count": null,
   "metadata": {
    "id": "euJV-nwJ76id"
   },
   "outputs": [],
   "source": []
  },
  {
   "cell_type": "code",
   "execution_count": null,
   "metadata": {
    "id": "6miYFbvExqMd",
    "scrolled": true,
    "tags": [
     "outputPrepend"
    ]
   },
   "outputs": [],
   "source": [
    "!./darknet detector train data/obj.data cfg/{yolo_config_name}.cfg yolov4-tiny.conv.29 -dont_show -map\n",
    "#If you get CUDA out of memory adjust subdivisions above!\n",
    "#adjust max batches down for shorter training above"
   ]
  },
  {
   "cell_type": "code",
   "execution_count": null,
   "metadata": {
    "colab": {
     "base_uri": "https://localhost:8080/",
     "height": 17
    },
    "id": "nw3Q2DqyzFb2",
    "outputId": "4afa7389-949c-453d-ce18-fd507e6d31a1"
   },
   "outputs": [],
   "source": [
    "# from google.colab import files\n",
    "# files.download('backup/custom-yolov4-tiny-detector_final.weights')"
   ]
  },
  {
   "cell_type": "markdown",
   "metadata": {
    "id": "nBnwpBV5ZXxQ"
   },
   "source": [
    "# Infer Custom Objects with Saved YOLOv4 Weights"
   ]
  },
  {
   "cell_type": "code",
   "execution_count": null,
   "metadata": {
    "id": "FzoJQQw8Zdco"
   },
   "outputs": [],
   "source": [
    "#define utility function\n",
    "def imShow(path):\n",
    "  import cv2\n",
    "  import matplotlib.pyplot as plt\n",
    "  %matplotlib inline\n",
    "\n",
    "  image = cv2.imread(path)\n",
    "  height, width = image.shape[:2]\n",
    "  resized_image = cv2.resize(image,(3*width, 3*height), interpolation = cv2.INTER_CUBIC)\n",
    "\n",
    "  fig = plt.gcf()\n",
    "  fig.set_size_inches(18, 10)\n",
    "  plt.axis(\"off\")\n",
    "  #plt.rcParams['figure.figsize'] = [10, 5]\n",
    "  plt.imshow(cv2.cvtColor(resized_image, cv2.COLOR_BGR2RGB))\n",
    "  plt.show()"
   ]
  },
  {
   "cell_type": "code",
   "execution_count": null,
   "metadata": {
    "id": "e3dJB6NZv4kh"
   },
   "outputs": [],
   "source": [
    "#check if weigths have saved yet\n",
    "#backup houses the last weights for our detector\n",
    "#(file yolo-obj_last.weights will be saved to the build\\darknet\\x64\\backup\\ for each 100 iterations)\n",
    "#(file yolo-obj_xxxx.weights will be saved to the build\\darknet\\x64\\backup\\ for each 1000 iterations)\n",
    "#After training is complete - get result yolo-obj_final.weights from path build\\darknet\\x64\\bac\n",
    "%cd darknet\n",
    "#if it is empty you haven't trained for long enough yet, you need to train for at least 100 iterations"
   ]
  },
  {
   "cell_type": "code",
   "execution_count": null,
   "metadata": {
    "id": "x-_E3O5Mf4Mf"
   },
   "outputs": [],
   "source": [
    "#coco.names is hardcoded somewhere in the detector\n",
    "%cp {CONFIG}/obj.names data/coco.names"
   ]
  },
  {
   "cell_type": "code",
   "execution_count": null,
   "metadata": {
    "id": "NjKzw2TvZrOQ"
   },
   "outputs": [],
   "source": [
    "#/test has images that we can test our detector on\n",
    "\n",
    "test_images = [f for f in os.listdir(f'{DATA}') if f.endswith('.jpg')]\n",
    "import random\n",
    "\n",
    "for img_path in random.sample(test_images, 10):\n",
    "    #test out our detector!\n",
    "    img_path = f\"{DATA}/\" + img_path;\n",
    "\n",
    "    !./darknet detect cfg/{yolo_config_name}.cfg backup/{yolo_config_name}_final.weights {img_path} -dont-show\n",
    "    imShow('predictions.jpg')"
   ]
  },
  {
   "cell_type": "code",
   "execution_count": null,
   "metadata": {
    "id": "hMmnEBrc1EBd"
   },
   "outputs": [],
   "source": []
  },
  {
   "cell_type": "code",
   "execution_count": null,
   "metadata": {},
   "outputs": [],
   "source": []
  }
 ],
 "metadata": {
  "accelerator": "GPU",
  "colab": {
   "collapsed_sections": [],
   "machine_shape": "hm",
   "name": "YOLOv4-tiny-Darknet.ipynb",
   "provenance": []
  },
  "interpreter": {
   "hash": "31f2aee4e71d21fbe5cf8b01ff0e069b9275f58929596ceb00d14d90e3e16cd6"
  },
  "kernelspec": {
   "display_name": "Python 3",
   "language": "python",
   "name": "python3"
  },
  "language_info": {
   "codemirror_mode": {
    "name": "ipython",
    "version": 3
   },
   "file_extension": ".py",
   "mimetype": "text/x-python",
   "name": "python",
   "nbconvert_exporter": "python",
   "pygments_lexer": "ipython3",
   "version": "3.6.9"
  }
 },
 "nbformat": 4,
 "nbformat_minor": 4
}
